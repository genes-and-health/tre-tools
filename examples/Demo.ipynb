{
 "cells": [
  {
   "cell_type": "markdown",
   "source": [
    "# Run through of TRE Tools\n",
    "\n",
    "The following notebook is designed to demonstrate the main features of the tretools package. The notebook is split into the following sections:\n",
    "\n",
    "- Codelists\n",
    "- Datasets\n",
    "- Phenotype Reports\n",
    "- Summary Report\n",
    "\n",
    "Codelists and Datasets form the building blocks of the system. They come together in specific queries in Phenotype Reports - to answer questions such as which patients in a given dataset have an event that matches a code in given codelist. A phenotype in this context is defined as a person who has a code in an identified codelist. A person might have several codes in 1 dataset, 1 qualifying code in different codelists or multiple codes in multiple codelists. "
   ],
   "metadata": {
    "collapsed": false
   },
   "id": "d84b2ea554519e17"
  },
  {
   "cell_type": "markdown",
   "source": [
    "## Codelists\n",
    "First we import our Codelist from a file. Let's start with a SNOMED codelist. "
   ],
   "metadata": {},
   "id": "85447e80-bf93-44d9-a22e-4daf2641b042"
  },
  {
   "cell_type": "code",
   "execution_count": 1,
   "id": "1ae6f29d",
   "metadata": {
    "ExecuteTime": {
     "end_time": "2024-01-02T21:01:51.757136Z",
     "start_time": "2024-01-02T21:01:51.733265Z"
    }
   },
   "outputs": [],
   "source": [
    "from tretools.codelists.codelist import Codelist"
   ]
  },
  {
   "cell_type": "code",
   "execution_count": 2,
   "id": "80200599-5d98-4b82-af20-e98dd94cbdac",
   "metadata": {
    "ExecuteTime": {
     "end_time": "2024-01-02T21:01:51.765156Z",
     "start_time": "2024-01-02T21:01:51.757630Z"
    }
   },
   "outputs": [],
   "source": [
    "snomed_codelist = Codelist(\"codelists/disease_a_snomed.csv\", codelist_type=\"SNOMED\")"
   ]
  },
  {
   "cell_type": "markdown",
   "source": [
    "This gives us a codelist that we can view. "
   ],
   "metadata": {
    "collapsed": false
   },
   "id": "957955544d61db2a"
  },
  {
   "cell_type": "code",
   "execution_count": 3,
   "outputs": [
    {
     "data": {
      "text/plain": "[{'code': '100000001', 'term': 'Disease A - 1'},\n {'code': '100000002', 'term': 'Disease A - 2'}]"
     },
     "execution_count": 3,
     "metadata": {},
     "output_type": "execute_result"
    }
   ],
   "source": [
    "snomed_codelist.data"
   ],
   "metadata": {
    "collapsed": false,
    "ExecuteTime": {
     "end_time": "2024-01-02T21:01:51.854742Z",
     "start_time": "2024-01-02T21:01:51.762639Z"
    }
   },
   "id": "93de36835fcdaf65"
  },
  {
   "cell_type": "code",
   "execution_count": 4,
   "id": "e04e71a1-1d4f-409f-ac69-88f3f1f03fb8",
   "metadata": {
    "ExecuteTime": {
     "end_time": "2024-01-02T21:01:51.858141Z",
     "start_time": "2024-01-02T21:01:51.767073Z"
    }
   },
   "outputs": [
    {
     "data": {
      "text/plain": "{'100000001', '100000002'}"
     },
     "execution_count": 4,
     "metadata": {},
     "output_type": "execute_result"
    }
   ],
   "source": [
    "snomed_codelist.codes"
   ]
  },
  {
   "cell_type": "markdown",
   "source": [
    "Now lets do the same with an ICD codelist. "
   ],
   "metadata": {
    "collapsed": false
   },
   "id": "79a45f01feeece83"
  },
  {
   "cell_type": "code",
   "execution_count": 5,
   "outputs": [],
   "source": [
    "icd_codelist = Codelist(\"Codelists/disease_a_icd.csv\", \"ICD10\")"
   ],
   "metadata": {
    "ExecuteTime": {
     "end_time": "2024-01-02T21:01:51.893631Z",
     "start_time": "2024-01-02T21:01:51.860831Z"
    }
   },
   "id": "83a2b4f0-56ce-422e-a5ea-6843515016cb"
  },
  {
   "cell_type": "code",
   "execution_count": 6,
   "id": "051b26fb-31ae-4c99-827c-098677c50691",
   "metadata": {
    "ExecuteTime": {
     "end_time": "2024-01-02T21:01:51.905118Z",
     "start_time": "2024-01-02T21:01:51.895277Z"
    }
   },
   "outputs": [
    {
     "data": {
      "text/plain": "{'A01', 'A021'}"
     },
     "execution_count": 6,
     "metadata": {},
     "output_type": "execute_result"
    }
   ],
   "source": [
    "icd_codelist.codes"
   ]
  },
  {
   "cell_type": "markdown",
   "source": [
    "Sometimes we want to add X to the end of a ICD10 to allow us to use it in NHS Digital Data. Now lets pass in `add_x_codes` to see the difference. You will see that extra codes are generated with the same code term. "
   ],
   "metadata": {
    "collapsed": false
   },
   "id": "279c7b5555376e6a"
  },
  {
   "cell_type": "code",
   "execution_count": 7,
   "outputs": [
    {
     "data": {
      "text/plain": "{'A01', 'A01X', 'A021'}"
     },
     "execution_count": 7,
     "metadata": {},
     "output_type": "execute_result"
    }
   ],
   "source": [
    "icd_codelist_with_x = Codelist(\"Codelists/disease_a_icd.csv\", \"ICD10\", add_x_codes=True)\n",
    "icd_codelist_with_x.codes"
   ],
   "metadata": {
    "collapsed": false,
    "ExecuteTime": {
     "end_time": "2024-01-02T21:01:51.913765Z",
     "start_time": "2024-01-02T21:01:51.905832Z"
    }
   },
   "id": "c093c022d88b4bbe"
  },
  {
   "cell_type": "markdown",
   "source": [
    "Additionally, with ICD10 codes, we want to truncate this to 3 digits only. "
   ],
   "metadata": {
    "collapsed": false
   },
   "id": "25ed0cf91912f82f"
  },
  {
   "cell_type": "code",
   "execution_count": 8,
   "outputs": [
    {
     "data": {
      "text/plain": "{'A01', 'A021'}"
     },
     "execution_count": 8,
     "metadata": {},
     "output_type": "execute_result"
    }
   ],
   "source": [
    "truncated_icd_codelist = Codelist(\"Codelists/disease_a_icd.csv\", \"ICD10\", icd10_3_digit_only=True)\n",
    "truncated_icd_codelist.codes"
   ],
   "metadata": {
    "collapsed": false,
    "ExecuteTime": {
     "end_time": "2024-01-02T21:01:51.914363Z",
     "start_time": "2024-01-02T21:01:51.908563Z"
    }
   },
   "id": "c41a60ac67c65778"
  },
  {
   "cell_type": "markdown",
   "source": [
    "## Datasets\n",
    "\n",
    "There are 3 types of Datasets:\n",
    "- RawDataset - this takes in data, which might be messy. It can be processed to produce a ProcessedDataset\n",
    "- ProcessedDataset - this is a tidy dataset that can be merged with other ProcessedDataset\n",
    "- DemographicDataset - this is a special type of Dataset that can be created from specific data files"
   ],
   "metadata": {
    "collapsed": false
   },
   "id": "1f0397d84a6cf0f1"
  },
  {
   "cell_type": "code",
   "execution_count": 9,
   "id": "e0bb5c71-7636-4a23-92fd-a0f8057d18a3",
   "metadata": {
    "ExecuteTime": {
     "end_time": "2024-01-02T21:01:51.994615Z",
     "start_time": "2024-01-02T21:01:51.915316Z"
    }
   },
   "outputs": [],
   "source": [
    "from tretools.datasets.raw_dataset import RawDataset\n",
    "from tretools.datasets.demographic_dataset import DemographicDataset"
   ]
  },
  {
   "cell_type": "markdown",
   "source": [
    "We can load a datafile into a RawDataset. This will put the data at `.data`. "
   ],
   "metadata": {
    "collapsed": false
   },
   "id": "641186c06926c24c"
  },
  {
   "cell_type": "code",
   "execution_count": 10,
   "id": "f762cb4b-47b5-4c25-a0e9-539ce411cf11",
   "metadata": {
    "ExecuteTime": {
     "end_time": "2024-01-02T21:01:52.006440Z",
     "start_time": "2024-01-02T21:01:52.002366Z"
    }
   },
   "outputs": [],
   "source": [
    "raw_data = RawDataset(path=\"datasets/primary_care_data.csv\", coding_system=\"SNOMED\", dataset_type=\"primary_care\")"
   ]
  },
  {
   "cell_type": "code",
   "execution_count": 11,
   "id": "b06ec35f-80b9-469f-84d1-f1314101c6eb",
   "metadata": {
    "ExecuteTime": {
     "end_time": "2024-01-02T21:01:52.017070Z",
     "start_time": "2024-01-02T21:01:52.010035Z"
    }
   },
   "outputs": [
    {
     "data": {
      "text/plain": "shape: (27, 5)\n┌────────────────────────────┬─────────────────────────┬───────────────┬───────────────┬───────────┐\n│ pseudo_nhs_number          ┆ clinical_effective_date ┆ original_code ┆ original_term ┆ extra_col │\n│ ---                        ┆ ---                     ┆ ---           ┆ ---           ┆ ---       │\n│ str                        ┆ str                     ┆ i64           ┆ str           ┆ i64       │\n╞════════════════════════════╪═════════════════════════╪═══════════════╪═══════════════╪═══════════╡\n│ 84950DE0614A5C241F7223FBCC ┆ 2018-10-05 12:15:30     ┆ 100000001     ┆ Disease A - 1 ┆ 1         │\n│ D27BE8…                    ┆                         ┆               ┆               ┆           │\n│ 84950DE0614A5C241F7223FBCC ┆ 05/11/2018              ┆ 100000001     ┆ Disease A - 1 ┆ 1         │\n│ D27BE8…                    ┆                         ┆               ┆               ┆           │\n│ 84950DE0614A5C241F7223FBCC ┆ 12-02-2019              ┆ 100000002     ┆ Disease A - 2 ┆ 1         │\n│ D27BE8…                    ┆                         ┆               ┆               ┆           │\n│ 84950DE0614A5C241F7223FBCC ┆ 2020-05-22T08:45:50     ┆ 200000001     ┆ Disease B - 1 ┆ 1         │\n│ D27BE8…                    ┆                         ┆               ┆               ┆           │\n│ …                          ┆ …                       ┆ …             ┆ …             ┆ …         │\n│ 73951AB0712D6E241E8222EDCC ┆ 03-06-2013 15:23        ┆ 100000001     ┆ Disease A - 1 ┆ 1         │\n│ F28AE8…                    ┆                         ┆               ┆               ┆           │\n│ 53952EF0503F7F341D9121DBCC ┆ July 19, 2016           ┆ 200000001     ┆ Disease B - 1 ┆ 1         │\n│ C39DE9…                    ┆                         ┆               ┆               ┆           │\n│ 53952EF0503F7F341D9121DBCC ┆ 2016-08-20 07:10        ┆ 200000001     ┆ Disease B - 1 ┆ 1         │\n│ C39DE9…                    ┆                         ┆               ┆               ┆           │\n│ 44966CC0716B4C241F8223EDBC ┆ null                    ┆ 100000002     ┆ Disease A - 2 ┆ 1         │\n│ F77AE8…                    ┆                         ┆               ┆               ┆           │\n└────────────────────────────┴─────────────────────────┴───────────────┴───────────────┴───────────┘",
      "text/html": "<div><style>\n.dataframe > thead > tr > th,\n.dataframe > tbody > tr > td {\n  text-align: right;\n  white-space: pre-wrap;\n}\n</style>\n<small>shape: (27, 5)</small><table border=\"1\" class=\"dataframe\"><thead><tr><th>pseudo_nhs_number</th><th>clinical_effective_date</th><th>original_code</th><th>original_term</th><th>extra_col</th></tr><tr><td>str</td><td>str</td><td>i64</td><td>str</td><td>i64</td></tr></thead><tbody><tr><td>&quot;84950DE0614A5C…</td><td>&quot;2018-10-05 12:…</td><td>100000001</td><td>&quot;Disease A - 1&quot;</td><td>1</td></tr><tr><td>&quot;84950DE0614A5C…</td><td>&quot;05/11/2018&quot;</td><td>100000001</td><td>&quot;Disease A - 1&quot;</td><td>1</td></tr><tr><td>&quot;84950DE0614A5C…</td><td>&quot;12-02-2019&quot;</td><td>100000002</td><td>&quot;Disease A - 2&quot;</td><td>1</td></tr><tr><td>&quot;84950DE0614A5C…</td><td>&quot;2020-05-22T08:…</td><td>200000001</td><td>&quot;Disease B - 1&quot;</td><td>1</td></tr><tr><td>&quot;73951AB0712D6E…</td><td>&quot;&quot;</td><td>100000001</td><td>&quot;Disease A - 1&quot;</td><td>1</td></tr><tr><td>&quot;73951AB0712D6E…</td><td>&quot;03-06-2013 15:…</td><td>100000001</td><td>&quot;Disease A - 1&quot;</td><td>1</td></tr><tr><td>&quot;53952EF0503F7F…</td><td>&quot;July 19, 2016&quot;</td><td>200000001</td><td>&quot;Disease B - 1&quot;</td><td>1</td></tr><tr><td>&quot;53952EF0503F7F…</td><td>&quot;2016-08-20 07:…</td><td>200000001</td><td>&quot;Disease B - 1&quot;</td><td>1</td></tr><tr><td>&quot;44966CC0716B4C…</td><td>null</td><td>100000002</td><td>&quot;Disease A - 2&quot;</td><td>1</td></tr><tr><td>&quot;84950DE0614A5C…</td><td>&quot;2018-10-05 12:…</td><td>100000001</td><td>&quot;Disease A - 1&quot;</td><td>1</td></tr><tr><td>&quot;84950DE0614A5C…</td><td>&quot;05/11/2018&quot;</td><td>100000001</td><td>&quot;Disease A - 1&quot;</td><td>1</td></tr><tr><td>&quot;84950DE0614A5C…</td><td>&quot;12-02-2019&quot;</td><td>100000002</td><td>&quot;Disease A - 2&quot;</td><td>1</td></tr><tr><td>&hellip;</td><td>&hellip;</td><td>&hellip;</td><td>&hellip;</td><td>&hellip;</td></tr><tr><td>&quot;53952EF0503F7F…</td><td>&quot;July 19, 2016&quot;</td><td>200000001</td><td>&quot;Disease B - 1&quot;</td><td>1</td></tr><tr><td>&quot;53952EF0503F7F…</td><td>&quot;2016-08-20 07:…</td><td>200000001</td><td>&quot;Disease B - 1&quot;</td><td>1</td></tr><tr><td>&quot;44966CC0716B4C…</td><td>null</td><td>100000002</td><td>&quot;Disease A - 2&quot;</td><td>1</td></tr><tr><td>&quot;84950DE0614A5C…</td><td>&quot;2018-10-05 12:…</td><td>100000001</td><td>&quot;Disease A - 1&quot;</td><td>1</td></tr><tr><td>&quot;84950DE0614A5C…</td><td>&quot;05/11/2018&quot;</td><td>100000001</td><td>&quot;Disease A - 1&quot;</td><td>1</td></tr><tr><td>&quot;84950DE0614A5C…</td><td>&quot;12-02-2019&quot;</td><td>100000002</td><td>&quot;Disease A - 2&quot;</td><td>1</td></tr><tr><td>&quot;84950DE0614A5C…</td><td>&quot;2020-05-22T08:…</td><td>200000001</td><td>&quot;Disease B - 1&quot;</td><td>1</td></tr><tr><td>&quot;73951AB0712D6E…</td><td>&quot;&quot;</td><td>100000001</td><td>&quot;Disease A - 1&quot;</td><td>1</td></tr><tr><td>&quot;73951AB0712D6E…</td><td>&quot;03-06-2013 15:…</td><td>100000001</td><td>&quot;Disease A - 1&quot;</td><td>1</td></tr><tr><td>&quot;53952EF0503F7F…</td><td>&quot;July 19, 2016&quot;</td><td>200000001</td><td>&quot;Disease B - 1&quot;</td><td>1</td></tr><tr><td>&quot;53952EF0503F7F…</td><td>&quot;2016-08-20 07:…</td><td>200000001</td><td>&quot;Disease B - 1&quot;</td><td>1</td></tr><tr><td>&quot;44966CC0716B4C…</td><td>null</td><td>100000002</td><td>&quot;Disease A - 2&quot;</td><td>1</td></tr></tbody></table></div>"
     },
     "execution_count": 11,
     "metadata": {},
     "output_type": "execute_result"
    }
   ],
   "source": [
    "raw_data.data"
   ]
  },
  {
   "cell_type": "markdown",
   "id": "b92ce4b5-928f-43f9-968e-55c252bd5e86",
   "metadata": {},
   "source": [
    "There are different dates, some missing data and an extra column. Let's get rid of these. We pass in a deduplication option, plus the maps of the column. This will create a ProcessedDataset."
   ]
  },
  {
   "cell_type": "code",
   "execution_count": 12,
   "id": "ef1730ae-92d1-4ab9-8045-0beac9f21a99",
   "metadata": {
    "ExecuteTime": {
     "end_time": "2024-01-02T21:01:52.069034Z",
     "start_time": "2024-01-02T21:01:52.015403Z"
    }
   },
   "outputs": [],
   "source": [
    "gp_processed_data = raw_data.process_dataset(\n",
    "    deduplication_options=[\"nhs_number\", \"code\", \"date\"], \n",
    "    column_maps={\"original_code\": \"code\", \"original_term\": \"term\", \"clinical_effective_date\": \"date\", \"pseudo_nhs_number\": \"nhs_number\"}\n",
    ")"
   ]
  },
  {
   "cell_type": "code",
   "execution_count": 13,
   "id": "e8c7f49d-cb40-4486-81d9-dbf8eaa35a8d",
   "metadata": {
    "ExecuteTime": {
     "end_time": "2024-01-02T21:01:52.070467Z",
     "start_time": "2024-01-02T21:01:52.037727Z"
    }
   },
   "outputs": [
    {
     "data": {
      "text/plain": "shape: (7, 3)\n┌───────────────────────────────────┬───────────┬────────────┐\n│ nhs_number                        ┆ code      ┆ date       │\n│ ---                               ┆ ---       ┆ ---        │\n│ str                               ┆ i64       ┆ date       │\n╞═══════════════════════════════════╪═══════════╪════════════╡\n│ 84950DE0614A5C241F7223FBCCD27BE8… ┆ 200000001 ┆ 2020-05-22 │\n│ 53952EF0503F7F341D9121DBCCC39DE9… ┆ 200000001 ┆ 2016-07-19 │\n│ 73951AB0712D6E241E8222EDCCF28AE8… ┆ 100000001 ┆ 2013-06-03 │\n│ 84950DE0614A5C241F7223FBCCD27BE8… ┆ 100000001 ┆ 2018-10-05 │\n│ 84950DE0614A5C241F7223FBCCD27BE8… ┆ 100000001 ┆ 2018-11-05 │\n│ 84950DE0614A5C241F7223FBCCD27BE8… ┆ 100000002 ┆ 2019-02-12 │\n│ 53952EF0503F7F341D9121DBCCC39DE9… ┆ 200000001 ┆ 2016-08-20 │\n└───────────────────────────────────┴───────────┴────────────┘",
      "text/html": "<div><style>\n.dataframe > thead > tr > th,\n.dataframe > tbody > tr > td {\n  text-align: right;\n  white-space: pre-wrap;\n}\n</style>\n<small>shape: (7, 3)</small><table border=\"1\" class=\"dataframe\"><thead><tr><th>nhs_number</th><th>code</th><th>date</th></tr><tr><td>str</td><td>i64</td><td>date</td></tr></thead><tbody><tr><td>&quot;84950DE0614A5C…</td><td>200000001</td><td>2020-05-22</td></tr><tr><td>&quot;53952EF0503F7F…</td><td>200000001</td><td>2016-07-19</td></tr><tr><td>&quot;73951AB0712D6E…</td><td>100000001</td><td>2013-06-03</td></tr><tr><td>&quot;84950DE0614A5C…</td><td>100000001</td><td>2018-10-05</td></tr><tr><td>&quot;84950DE0614A5C…</td><td>100000001</td><td>2018-11-05</td></tr><tr><td>&quot;84950DE0614A5C…</td><td>100000002</td><td>2019-02-12</td></tr><tr><td>&quot;53952EF0503F7F…</td><td>200000001</td><td>2016-08-20</td></tr></tbody></table></div>"
     },
     "execution_count": 13,
     "metadata": {},
     "output_type": "execute_result"
    }
   ],
   "source": [
    "gp_processed_data.data"
   ]
  },
  {
   "cell_type": "markdown",
   "source": [
    "Now you will see that there is a clean dataset. \n",
    "\n",
    "Let's move onto Demographics. "
   ],
   "metadata": {
    "collapsed": false
   },
   "id": "342f22c04f83c4a3"
  },
  {
   "cell_type": "code",
   "execution_count": 14,
   "outputs": [],
   "source": [
    "demographics = DemographicDataset(path_to_mapping_file=\"demographics/mapping.txt\", path_to_demographic_file=\"demographics/gender_dummy.txt\")"
   ],
   "metadata": {
    "collapsed": false,
    "ExecuteTime": {
     "end_time": "2024-01-02T21:01:52.071160Z",
     "start_time": "2024-01-02T21:01:52.040361Z"
    }
   },
   "id": "ad29ec54a3412fc3"
  },
  {
   "cell_type": "markdown",
   "source": [
    "Similar to RawDataset, we can process this data to standardise it. We need to pass in a map of what columns mean in each of the 2 input files.  "
   ],
   "metadata": {
    "collapsed": false
   },
   "id": "4df8b24d17cfea86"
  },
  {
   "cell_type": "code",
   "execution_count": 15,
   "outputs": [],
   "source": [
    "mapping_config = {\n",
    "    \"mapping\": {\n",
    "        \"OrageneID\": \"study_id\",\n",
    "        \"PseudoNHS_2023-11-08\": \"nhs_number\"\n",
    "    },\n",
    "    \"demographics\": {\n",
    "        \"S1QST_Oragene_ID\": \"study_id\",\n",
    "        \"S1QST_MM-YYYY_ofBirth\": \"dob\",\n",
    "        \"S1QST_Gender\": \"gender\"\n",
    "    }\n",
    "}"
   ],
   "metadata": {
    "collapsed": false,
    "ExecuteTime": {
     "end_time": "2024-01-02T21:01:52.071771Z",
     "start_time": "2024-01-02T21:01:52.042541Z"
    }
   },
   "id": "18106025515ff3ed"
  },
  {
   "cell_type": "code",
   "execution_count": 16,
   "outputs": [],
   "source": [
    "demographics.process_dataset(mapping_config)"
   ],
   "metadata": {
    "collapsed": false,
    "ExecuteTime": {
     "end_time": "2024-01-02T21:01:52.072234Z",
     "start_time": "2024-01-02T21:01:52.044935Z"
    }
   },
   "id": "9876b27785391866"
  },
  {
   "cell_type": "code",
   "execution_count": 21,
   "outputs": [
    {
     "data": {
      "text/plain": "shape: (3, 3)\n┌───────────────────────────────────┬────────┬────────────┐\n│ nhs_number                        ┆ gender ┆ dob        │\n│ ---                               ┆ ---    ┆ ---        │\n│ str                               ┆ i64    ┆ date       │\n╞═══════════════════════════════════╪════════╪════════════╡\n│ 84950DE0614A5C241F7223FBCCD27BE8… ┆ 2      ┆ 1983-10-15 │\n│ 73951AB0712D6E241E8222EDCCF28AE8… ┆ 1      ┆ 1979-01-15 │\n│ 53952EF0503F7F341D9121DBCCC39DE9… ┆ 1      ┆ 1948-06-15 │\n└───────────────────────────────────┴────────┴────────────┘",
      "text/html": "<div><style>\n.dataframe > thead > tr > th,\n.dataframe > tbody > tr > td {\n  text-align: right;\n  white-space: pre-wrap;\n}\n</style>\n<small>shape: (3, 3)</small><table border=\"1\" class=\"dataframe\"><thead><tr><th>nhs_number</th><th>gender</th><th>dob</th></tr><tr><td>str</td><td>i64</td><td>date</td></tr></thead><tbody><tr><td>&quot;84950DE0614A5C…</td><td>2</td><td>1983-10-15</td></tr><tr><td>&quot;73951AB0712D6E…</td><td>1</td><td>1979-01-15</td></tr><tr><td>&quot;53952EF0503F7F…</td><td>1</td><td>1948-06-15</td></tr></tbody></table></div>"
     },
     "execution_count": 21,
     "metadata": {},
     "output_type": "execute_result"
    }
   ],
   "source": [
    "demographics.data"
   ],
   "metadata": {
    "collapsed": false,
    "ExecuteTime": {
     "end_time": "2024-01-02T21:02:09.749621Z",
     "start_time": "2024-01-02T21:02:09.737023Z"
    }
   },
   "id": "6a505acf45ce6838"
  },
  {
   "cell_type": "markdown",
   "source": [
    "We now have a clean dataset for age and gender. "
   ],
   "metadata": {
    "collapsed": false
   },
   "id": "d2ca82c9fe6254b5"
  },
  {
   "cell_type": "markdown",
   "id": "068d38cd-9442-47ef-9f58-5c6d95ae0702",
   "metadata": {},
   "source": [
    "# Phenotype Report"
   ]
  },
  {
   "cell_type": "code",
   "execution_count": 18,
   "id": "15cf0235-196e-437f-9d2a-8ec04f44d41c",
   "metadata": {
    "ExecuteTime": {
     "end_time": "2024-01-02T21:01:52.145483Z",
     "start_time": "2024-01-02T21:01:52.056014Z"
    }
   },
   "outputs": [],
   "source": [
    "from tretools.phenotype_report.report import PhenotypeReport"
   ]
  },
  {
   "cell_type": "markdown",
   "source": [
    "We create an empty report. "
   ],
   "metadata": {
    "collapsed": false
   },
   "id": "5a4297aee497d3db"
  },
  {
   "cell_type": "code",
   "execution_count": 19,
   "id": "b292bfdc-8a6b-4027-a4e9-e099586288a8",
   "metadata": {
    "ExecuteTime": {
     "end_time": "2024-01-02T21:01:52.146272Z",
     "start_time": "2024-01-02T21:01:52.061720Z"
    }
   },
   "outputs": [],
   "source": [
    "report = PhenotypeReport(\"Disease A\")"
   ]
  },
  {
   "cell_type": "markdown",
   "source": [
    "We now add counts. A count includes the following fields:\n",
    "\n",
    "- Dataset (compulsory)\n",
    "- Codelist (compulsory)\n",
    "- Demographics (optional)"
   ],
   "metadata": {
    "collapsed": false
   },
   "id": "7183039f911eee53"
  },
  {
   "cell_type": "code",
   "execution_count": 22,
   "id": "f32d73a4-ce41-4952-ad08-2dec033ec8cb",
   "metadata": {
    "ExecuteTime": {
     "end_time": "2024-01-02T21:02:50.106236Z",
     "start_time": "2024-01-02T21:02:50.075170Z"
    }
   },
   "outputs": [
    {
     "name": "stderr",
     "output_type": "stream",
     "text": [
      "/Users/carolinemorton/Documents/Github/genes/packages/tre-tools/tretools/counter/counter.py:124: PolarsInefficientMapWarning: \n",
      "Series.map_elements is significantly slower than the native series API.\n",
      "Only use if you absolutely CANNOT implement your logic otherwise.\n",
      "In this case, you can replace your `map_elements` with the following:\n",
      "  - s.map_elements(lambda x: ...)\n",
      "  + s.map_dict(gender_map)\n",
      "\n",
      "  first_events[\"gender\"].apply(lambda x: gender_map[x]).alias(\"gender_label\")\n"
     ]
    }
   ],
   "source": [
    "report.add_count(\"primary_care\", codelist=snomed_codelist, dataset=gp_processed_data, demographics=demographics)"
   ]
  },
  {
   "cell_type": "markdown",
   "source": [
    "This gives us a count summary. "
   ],
   "metadata": {
    "collapsed": false
   },
   "id": "fc3458d2d7c31182"
  },
  {
   "cell_type": "code",
   "execution_count": 23,
   "id": "b09954d5-4561-482d-8c66-d10f17774d95",
   "metadata": {
    "ExecuteTime": {
     "end_time": "2024-01-02T21:03:04.945016Z",
     "start_time": "2024-01-02T21:03:04.936486Z"
    }
   },
   "outputs": [
    {
     "data": {
      "text/plain": "{'primary_care': {'code': [100000001, 100000002],\n  'patient_count': 2,\n  'event_count': 4,\n  'nhs_numbers': shape: (2, 5)\n  ┌───────────────────────────────────┬───────────┬────────────┬──────────────┬────────┐\n  │ nhs_number                        ┆ code      ┆ date       ┆ age_at_event ┆ gender │\n  │ ---                               ┆ ---       ┆ ---        ┆ ---          ┆ ---    │\n  │ str                               ┆ i64       ┆ date       ┆ i64          ┆ str    │\n  ╞═══════════════════════════════════╪═══════════╪════════════╪══════════════╪════════╡\n  │ 84950DE0614A5C241F7223FBCCD27BE8… ┆ 100000001 ┆ 2018-10-05 ┆ 34           ┆ F      │\n  │ 73951AB0712D6E241E8222EDCCF28AE8… ┆ 100000001 ┆ 2013-06-03 ┆ 34           ┆ M      │\n  └───────────────────────────────────┴───────────┴────────────┴──────────────┴────────┘,\n  'codelist_path': 'codelists/disease_a_snomed.csv',\n  'codelist_type': 'SNOMED',\n  'dataset_type': 'primary_care',\n  'log': ['2024-01-02 21:02:50.010179: There are 7 events in the dataset',\n   '2024-01-02 21:02:50.011227: Counting events for codelist primary_care',\n   '2024-01-02 21:02:50.066720: There are 4 events in the dataset for the codelist',\n   '2024-01-02 21:02:50.079837: There are 2 people in the dataset for the codelist',\n   '2024-01-02 21:02:50.087050: Demographic data added to the report'],\n  'dataset_log': ['2024-01-02 21:01:52.002389: Loaded data from datasets/primary_care_data.csv',\n   '2024-01-02 21:01:52.012814: Column names not validated',\n   '2024-01-02 21:01:52.017608: Key columns are standardised, however extra columns found: extra_col. Run _drop_unneeded_columns() to drop these columns.',\n   '2024-01-02 21:01:52.019469: Unneeded 2 column(s) dropped',\n   '2024-01-02 21:01:52.027266: Dropped 6 rows with empty values or empty date strings',\n   '2024-01-02 21:01:52.031206: Date format standarised',\n   '2024-01-02 21:01:52.034939: Deduplicated data based on: nhs_number, code, date']}}"
     },
     "execution_count": 23,
     "metadata": {},
     "output_type": "execute_result"
    }
   ],
   "source": [
    "report.counts"
   ]
  },
  {
   "cell_type": "markdown",
   "source": [
    "We can add a further count. Let's use a different dataset - one from barts to do this. "
   ],
   "metadata": {
    "collapsed": false
   },
   "id": "cb6728e67f1dcb01"
  },
  {
   "cell_type": "code",
   "execution_count": 24,
   "outputs": [],
   "source": [
    "barts_data = RawDataset(\"datasets/barts_diagnosis.tab\", dataset_type=\"barts_health\", coding_system=\"ICD10\")\n",
    "processed_data_hospital = barts_data.process_dataset(deduplication_options=[\"nhs_number\", \"code\", \"date\"],\n",
    "                           column_maps={\n",
    "                               \"ICD_Diagnosis_Cd\": \"code\", \n",
    "                               \"ICD_Diag_Desc\": \"term\", \n",
    "                               \"Activity_date\": \"date\", \n",
    "                               \"PseudoNHS_2023_04_24\": \"nhs_number\"}\n",
    "                           )"
   ],
   "metadata": {
    "collapsed": false,
    "ExecuteTime": {
     "end_time": "2024-01-02T21:03:07.834296Z",
     "start_time": "2024-01-02T21:03:07.821755Z"
    }
   },
   "id": "7ec9a6e83c2d0be9"
  },
  {
   "cell_type": "code",
   "execution_count": 25,
   "outputs": [],
   "source": [
    "report.add_count(\"secondary_care\", codelist=icd_codelist, dataset=processed_data_hospital, demographics=demographics)\n"
   ],
   "metadata": {
    "collapsed": false,
    "ExecuteTime": {
     "end_time": "2024-01-02T21:03:08.602993Z",
     "start_time": "2024-01-02T21:03:08.580987Z"
    }
   },
   "id": "3768e938c7604baa"
  },
  {
   "cell_type": "markdown",
   "source": [
    "Let's examine our counts now:"
   ],
   "metadata": {
    "collapsed": false
   },
   "id": "ce71ffb444e2cdb0"
  },
  {
   "cell_type": "code",
   "execution_count": 26,
   "outputs": [
    {
     "data": {
      "text/plain": "{'primary_care': {'code': [100000001, 100000002],\n  'patient_count': 2,\n  'event_count': 4,\n  'nhs_numbers': shape: (2, 5)\n  ┌───────────────────────────────────┬───────────┬────────────┬──────────────┬────────┐\n  │ nhs_number                        ┆ code      ┆ date       ┆ age_at_event ┆ gender │\n  │ ---                               ┆ ---       ┆ ---        ┆ ---          ┆ ---    │\n  │ str                               ┆ i64       ┆ date       ┆ i64          ┆ str    │\n  ╞═══════════════════════════════════╪═══════════╪════════════╪══════════════╪════════╡\n  │ 84950DE0614A5C241F7223FBCCD27BE8… ┆ 100000001 ┆ 2018-10-05 ┆ 34           ┆ F      │\n  │ 73951AB0712D6E241E8222EDCCF28AE8… ┆ 100000001 ┆ 2013-06-03 ┆ 34           ┆ M      │\n  └───────────────────────────────────┴───────────┴────────────┴──────────────┴────────┘,\n  'codelist_path': 'codelists/disease_a_snomed.csv',\n  'codelist_type': 'SNOMED',\n  'dataset_type': 'primary_care',\n  'log': ['2024-01-02 21:02:50.010179: There are 7 events in the dataset',\n   '2024-01-02 21:02:50.011227: Counting events for codelist primary_care',\n   '2024-01-02 21:02:50.066720: There are 4 events in the dataset for the codelist',\n   '2024-01-02 21:02:50.079837: There are 2 people in the dataset for the codelist',\n   '2024-01-02 21:02:50.087050: Demographic data added to the report'],\n  'dataset_log': ['2024-01-02 21:01:52.002389: Loaded data from datasets/primary_care_data.csv',\n   '2024-01-02 21:01:52.012814: Column names not validated',\n   '2024-01-02 21:01:52.017608: Key columns are standardised, however extra columns found: extra_col. Run _drop_unneeded_columns() to drop these columns.',\n   '2024-01-02 21:01:52.019469: Unneeded 2 column(s) dropped',\n   '2024-01-02 21:01:52.027266: Dropped 6 rows with empty values or empty date strings',\n   '2024-01-02 21:01:52.031206: Date format standarised',\n   '2024-01-02 21:01:52.034939: Deduplicated data based on: nhs_number, code, date']},\n 'secondary_care': {'code': ['A01', 'A021'],\n  'patient_count': 2,\n  'event_count': 2,\n  'nhs_numbers': shape: (2, 5)\n  ┌───────────────────────────────────┬──────┬────────────┬──────────────┬────────┐\n  │ nhs_number                        ┆ code ┆ date       ┆ age_at_event ┆ gender │\n  │ ---                               ┆ ---  ┆ ---        ┆ ---          ┆ ---    │\n  │ str                               ┆ str  ┆ date       ┆ i64          ┆ str    │\n  ╞═══════════════════════════════════╪══════╪════════════╪══════════════╪════════╡\n  │ 84950DE0614A5C241F7223FBCCD27BE8… ┆ A01  ┆ 2012-12-13 ┆ 29           ┆ F      │\n  │ 53952EF0503F7F341D9121DBCCC39DE9… ┆ A01  ┆ 2012-12-13 ┆ 64           ┆ M      │\n  └───────────────────────────────────┴──────┴────────────┴──────────────┴────────┘,\n  'codelist_path': 'Codelists/disease_a_icd.csv',\n  'codelist_type': 'ICD10',\n  'dataset_type': 'barts_health',\n  'log': ['2024-01-02 21:03:08.578642: There are 10 events in the dataset',\n   '2024-01-02 21:03:08.578676: Counting events for codelist secondary_care',\n   '2024-01-02 21:03:08.580251: There are 2 events in the dataset for the codelist',\n   '2024-01-02 21:03:08.582417: There are 2 people in the dataset for the codelist',\n   '2024-01-02 21:03:08.584872: Demographic data added to the report'],\n  'dataset_log': ['2024-01-02 21:03:07.822608: Loaded data from datasets/barts_diagnosis.tab',\n   '2024-01-02 21:03:07.822757: Column names not validated',\n   '2024-01-02 21:03:07.822991: Key columns are standardised, however extra columns found: ICD_Diagnosis_Num, CDS_Activity_Dt. Run _drop_unneeded_columns() to drop these columns.',\n   '2024-01-02 21:03:07.823162: Unneeded 3 column(s) dropped',\n   '2024-01-02 21:03:07.824152: Dropped 0 rows with empty values or empty date strings',\n   '2024-01-02 21:03:07.824806: Date format standarised',\n   '2024-01-02 21:03:07.825132: Deduplicated data based on: nhs_number, code, date']}}"
     },
     "execution_count": 26,
     "metadata": {},
     "output_type": "execute_result"
    }
   ],
   "source": [
    "report.counts"
   ],
   "metadata": {
    "collapsed": false,
    "ExecuteTime": {
     "end_time": "2024-01-02T21:03:09.988147Z",
     "start_time": "2024-01-02T21:03:09.977928Z"
    }
   },
   "id": "fa3e3775db97456"
  },
  {
   "cell_type": "markdown",
   "source": [
    "This produces a report that is in its raw form. It can be used by SummaryReportTransformer for now but in the future, more report transformer types will be added. The advantage of this, is that a phenotype report can run once but be used for many outputs. \n",
    "\n",
    "# Summary Report"
   ],
   "metadata": {
    "collapsed": false
   },
   "id": "db1c0e9d9b7e8eb2"
  },
  {
   "cell_type": "code",
   "execution_count": 27,
   "outputs": [],
   "source": [
    "from tretools.report_transformers.summary_report import SummaryReportTransformer"
   ],
   "metadata": {
    "collapsed": false,
    "ExecuteTime": {
     "end_time": "2024-01-02T21:03:11.870021Z",
     "start_time": "2024-01-02T21:03:11.772754Z"
    }
   },
   "id": "88f56f71d7c0534b"
  },
  {
   "cell_type": "markdown",
   "source": [
    "We put our reports into a list. "
   ],
   "metadata": {
    "collapsed": false
   },
   "id": "8d8b7f26e0d89ef3"
  },
  {
   "cell_type": "code",
   "execution_count": 28,
   "outputs": [],
   "source": [
    "reports = [report]"
   ],
   "metadata": {
    "collapsed": false,
    "ExecuteTime": {
     "end_time": "2024-01-02T21:03:13.612648Z",
     "start_time": "2024-01-02T21:03:13.584415Z"
    }
   },
   "id": "ffbbbf4d71bef5c1"
  },
  {
   "cell_type": "markdown",
   "source": [
    "We create our SummaryReportTransformer() from the reports, and then transform the output. We must pass in a path where we want the summary to be created. "
   ],
   "metadata": {
    "collapsed": false
   },
   "id": "40e4e055760e5661"
  },
  {
   "cell_type": "code",
   "execution_count": 29,
   "outputs": [],
   "source": [
    "summary_report = SummaryReportTransformer.load_from_objects(reports)"
   ],
   "metadata": {
    "collapsed": false,
    "ExecuteTime": {
     "end_time": "2024-01-02T21:03:15.302510Z",
     "start_time": "2024-01-02T21:03:15.283977Z"
    }
   },
   "id": "4517e447b297983d"
  },
  {
   "cell_type": "code",
   "execution_count": 30,
   "outputs": [],
   "source": [
    "summary_report.transform(path=\"summary_report\")"
   ],
   "metadata": {
    "collapsed": false,
    "ExecuteTime": {
     "end_time": "2024-01-02T21:03:16.092117Z",
     "start_time": "2024-01-02T21:03:16.057739Z"
    }
   },
   "id": "34fae0a7d790b1ae"
  },
  {
   "cell_type": "markdown",
   "source": [
    "This should output a number of folders and files contain your report at that path. "
   ],
   "metadata": {
    "collapsed": false
   },
   "id": "e8c5cc824d8accdd"
  }
 ],
 "metadata": {
  "kernelspec": {
   "display_name": "Python 3 (ipykernel)",
   "language": "python",
   "name": "python3"
  },
  "language_info": {
   "codemirror_mode": {
    "name": "ipython",
    "version": 3
   },
   "file_extension": ".py",
   "mimetype": "text/x-python",
   "name": "python",
   "nbconvert_exporter": "python",
   "pygments_lexer": "ipython3",
   "version": "3.9.6"
  }
 },
 "nbformat": 4,
 "nbformat_minor": 5
}
