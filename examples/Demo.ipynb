{
 "cells": [
  {
   "cell_type": "markdown",
   "source": [
    "# Run through of TRE Tools\n",
    "\n",
    "The following notebook is designed to demonstrate the main features of the tretools package. The notebook is split into the following sections:\n",
    "\n",
    "- Codelists\n",
    "- Datasets\n",
    "- Phenotype Reports\n",
    "- Summary Report\n",
    "\n",
    "Codelists and Datasets form the building blocks of the system. They come together in specific queries in Phenotype Reports - to answer questions such as which patients in a given dataset have an event that matches a code in given codelist. A phenotype in this context is defined as a person who has a code in an identified codelist. A person might have several codes in 1 dataset, 1 qualifying code in different codelists or multiple codes in multiple codelists. "
   ],
   "metadata": {
    "collapsed": false
   },
   "id": "d84b2ea554519e17"
  },
  {
   "cell_type": "markdown",
   "source": [
    "## Codelists\n",
    "First we import our Codelist from a file. Let's start with a SNOMED codelist. "
   ],
   "metadata": {},
   "id": "85447e80-bf93-44d9-a22e-4daf2641b042"
  },
  {
   "cell_type": "code",
   "execution_count": 52,
   "id": "1ae6f29d",
   "metadata": {
    "ExecuteTime": {
     "end_time": "2023-12-13T23:51:30.305252Z",
     "start_time": "2023-12-13T23:51:30.241240Z"
    }
   },
   "outputs": [],
   "source": [
    "from tretools.codelists.codelist import Codelist"
   ]
  },
  {
   "cell_type": "code",
   "execution_count": 53,
   "id": "80200599-5d98-4b82-af20-e98dd94cbdac",
   "metadata": {
    "ExecuteTime": {
     "end_time": "2023-12-13T23:51:30.314844Z",
     "start_time": "2023-12-13T23:51:30.307325Z"
    }
   },
   "outputs": [],
   "source": [
    "snomed_codelist = Codelist(\"codelists/disease_a_snomed.csv\", codelist_type=\"SNOMED\")"
   ]
  },
  {
   "cell_type": "markdown",
   "source": [
    "This gives us a codelist that we can view. "
   ],
   "metadata": {
    "collapsed": false
   },
   "id": "957955544d61db2a"
  },
  {
   "cell_type": "code",
   "execution_count": 54,
   "outputs": [
    {
     "data": {
      "text/plain": "[{'code': '100000001', 'term': 'Disease A - 1'},\n {'code': '100000002', 'term': 'Disease A - 2'}]"
     },
     "execution_count": 54,
     "metadata": {},
     "output_type": "execute_result"
    }
   ],
   "source": [
    "snomed_codelist.data"
   ],
   "metadata": {
    "collapsed": false,
    "ExecuteTime": {
     "end_time": "2023-12-13T23:51:30.320553Z",
     "start_time": "2023-12-13T23:51:30.316356Z"
    }
   },
   "id": "93de36835fcdaf65"
  },
  {
   "cell_type": "code",
   "execution_count": 55,
   "id": "e04e71a1-1d4f-409f-ac69-88f3f1f03fb8",
   "metadata": {
    "ExecuteTime": {
     "end_time": "2023-12-13T23:51:30.326765Z",
     "start_time": "2023-12-13T23:51:30.320381Z"
    }
   },
   "outputs": [
    {
     "data": {
      "text/plain": "{'100000001', '100000002'}"
     },
     "execution_count": 55,
     "metadata": {},
     "output_type": "execute_result"
    }
   ],
   "source": [
    "snomed_codelist.codes"
   ]
  },
  {
   "cell_type": "markdown",
   "source": [
    "Now lets do the same with an ICD codelist. "
   ],
   "metadata": {
    "collapsed": false
   },
   "id": "79a45f01feeece83"
  },
  {
   "cell_type": "code",
   "execution_count": 56,
   "outputs": [],
   "source": [
    "icd_codelist = Codelist(\"Codelists/disease_a_icd.csv\", \"ICD10\")"
   ],
   "metadata": {
    "ExecuteTime": {
     "end_time": "2023-12-13T23:51:30.327219Z",
     "start_time": "2023-12-13T23:51:30.322374Z"
    }
   },
   "id": "83a2b4f0-56ce-422e-a5ea-6843515016cb"
  },
  {
   "cell_type": "code",
   "execution_count": 57,
   "id": "051b26fb-31ae-4c99-827c-098677c50691",
   "metadata": {
    "ExecuteTime": {
     "end_time": "2023-12-13T23:51:30.364892Z",
     "start_time": "2023-12-13T23:51:30.327854Z"
    }
   },
   "outputs": [
    {
     "data": {
      "text/plain": "{'A01', 'A021'}"
     },
     "execution_count": 57,
     "metadata": {},
     "output_type": "execute_result"
    }
   ],
   "source": [
    "icd_codelist.codes"
   ]
  },
  {
   "cell_type": "markdown",
   "source": [
    "Sometimes we want to add X to the end of a ICD10 to allow us to use it in NHS Digital Data. Now lets pass in `add_x_codes` to see the difference. You will see that extra codes are generated with the same code term. "
   ],
   "metadata": {
    "collapsed": false
   },
   "id": "279c7b5555376e6a"
  },
  {
   "cell_type": "code",
   "execution_count": 58,
   "outputs": [
    {
     "data": {
      "text/plain": "{'A01', 'A01X', 'A021'}"
     },
     "execution_count": 58,
     "metadata": {},
     "output_type": "execute_result"
    }
   ],
   "source": [
    "icd_codelist_with_x = Codelist(\"Codelists/disease_a_icd.csv\", \"ICD10\", add_x_codes=True)\n",
    "icd_codelist_with_x.codes"
   ],
   "metadata": {
    "collapsed": false,
    "ExecuteTime": {
     "end_time": "2023-12-13T23:51:30.370904Z",
     "start_time": "2023-12-13T23:51:30.329991Z"
    }
   },
   "id": "c093c022d88b4bbe"
  },
  {
   "cell_type": "markdown",
   "source": [
    "Additionally, with ICD10 codes, we want to truncate this to 3 digits only. "
   ],
   "metadata": {
    "collapsed": false
   },
   "id": "25ed0cf91912f82f"
  },
  {
   "cell_type": "code",
   "execution_count": 59,
   "outputs": [
    {
     "data": {
      "text/plain": "{'A01', 'A021'}"
     },
     "execution_count": 59,
     "metadata": {},
     "output_type": "execute_result"
    }
   ],
   "source": [
    "truncated_icd_codelist = Codelist(\"Codelists/disease_a_icd.csv\", \"ICD10\", icd10_3_digit_only=True)\n",
    "truncated_icd_codelist.codes"
   ],
   "metadata": {
    "collapsed": false,
    "ExecuteTime": {
     "end_time": "2023-12-13T23:51:30.405604Z",
     "start_time": "2023-12-13T23:51:30.367760Z"
    }
   },
   "id": "c41a60ac67c65778"
  },
  {
   "cell_type": "markdown",
   "source": [
    "## Datasets\n",
    "\n",
    "There are 3 types of Datasets:\n",
    "- RawDataset - this takes in data, which might be messy. It can be processed to produce a ProcessedDataset\n",
    "- ProcessedDataset - this is a tidy dataset that can be merged with other ProcessedDataset\n",
    "- DemographicDataset - this is a special type of Dataset that can be created from specific data files"
   ],
   "metadata": {
    "collapsed": false
   },
   "id": "1f0397d84a6cf0f1"
  },
  {
   "cell_type": "code",
   "execution_count": 60,
   "id": "e0bb5c71-7636-4a23-92fd-a0f8057d18a3",
   "metadata": {
    "ExecuteTime": {
     "end_time": "2023-12-13T23:51:30.415075Z",
     "start_time": "2023-12-13T23:51:30.408151Z"
    }
   },
   "outputs": [],
   "source": [
    "from tretools.datasets.raw_dataset import RawDataset\n",
    "from tretools.datasets.demographic_dataset import DemographicDataset"
   ]
  },
  {
   "cell_type": "markdown",
   "source": [
    "We can load a datafile into a RawDataset. This will put the data at `.data`. "
   ],
   "metadata": {
    "collapsed": false
   },
   "id": "641186c06926c24c"
  },
  {
   "cell_type": "code",
   "execution_count": 61,
   "id": "f762cb4b-47b5-4c25-a0e9-539ce411cf11",
   "metadata": {
    "ExecuteTime": {
     "end_time": "2023-12-13T23:51:30.421344Z",
     "start_time": "2023-12-13T23:51:30.416945Z"
    }
   },
   "outputs": [],
   "source": [
    "raw_data = RawDataset(path=\"datasets/primary_care_data.csv\", coding_system=\"SNOMED\", dataset_type=\"primary_care\")"
   ]
  },
  {
   "cell_type": "code",
   "execution_count": 62,
   "id": "b06ec35f-80b9-469f-84d1-f1314101c6eb",
   "metadata": {
    "ExecuteTime": {
     "end_time": "2023-12-13T23:51:30.428298Z",
     "start_time": "2023-12-13T23:51:30.424081Z"
    }
   },
   "outputs": [
    {
     "data": {
      "text/plain": "shape: (27, 5)\n┌────────────────────────────┬─────────────────────────┬───────────────┬───────────────┬───────────┐\n│ pseudo_nhs_number          ┆ clinical_effective_date ┆ original_code ┆ original_term ┆ extra_col │\n│ ---                        ┆ ---                     ┆ ---           ┆ ---           ┆ ---       │\n│ str                        ┆ str                     ┆ i64           ┆ str           ┆ i64       │\n╞════════════════════════════╪═════════════════════════╪═══════════════╪═══════════════╪═══════════╡\n│ 84950DE0614A5C241F7223FBCC ┆ 2018-10-05 12:15:30     ┆ 100000001     ┆ Disease A - 1 ┆ 1         │\n│ D27BE8…                    ┆                         ┆               ┆               ┆           │\n│ 84950DE0614A5C241F7223FBCC ┆ 05/11/2018              ┆ 100000001     ┆ Disease A - 1 ┆ 1         │\n│ D27BE8…                    ┆                         ┆               ┆               ┆           │\n│ 84950DE0614A5C241F7223FBCC ┆ 12-02-2019              ┆ 100000002     ┆ Disease A - 2 ┆ 1         │\n│ D27BE8…                    ┆                         ┆               ┆               ┆           │\n│ 84950DE0614A5C241F7223FBCC ┆ 2020-05-22T08:45:50     ┆ 200000001     ┆ Disease B - 1 ┆ 1         │\n│ D27BE8…                    ┆                         ┆               ┆               ┆           │\n│ …                          ┆ …                       ┆ …             ┆ …             ┆ …         │\n│ 73951AB0712D6E241E8222EDCC ┆ 03-06-2013 15:23        ┆ 100000001     ┆ Disease A - 1 ┆ 1         │\n│ F28AE8…                    ┆                         ┆               ┆               ┆           │\n│ 53952EF0503F7F341D9121DBCC ┆ July 19, 2016           ┆ 200000001     ┆ Disease B - 1 ┆ 1         │\n│ C39DE9…                    ┆                         ┆               ┆               ┆           │\n│ 53952EF0503F7F341D9121DBCC ┆ 2016-08-20 07:10        ┆ 200000001     ┆ Disease B - 1 ┆ 1         │\n│ C39DE9…                    ┆                         ┆               ┆               ┆           │\n│ 44966CC0716B4C241F8223EDBC ┆ null                    ┆ 100000002     ┆ Disease A - 2 ┆ 1         │\n│ F77AE8…                    ┆                         ┆               ┆               ┆           │\n└────────────────────────────┴─────────────────────────┴───────────────┴───────────────┴───────────┘",
      "text/html": "<div><style>\n.dataframe > thead > tr > th,\n.dataframe > tbody > tr > td {\n  text-align: right;\n  white-space: pre-wrap;\n}\n</style>\n<small>shape: (27, 5)</small><table border=\"1\" class=\"dataframe\"><thead><tr><th>pseudo_nhs_number</th><th>clinical_effective_date</th><th>original_code</th><th>original_term</th><th>extra_col</th></tr><tr><td>str</td><td>str</td><td>i64</td><td>str</td><td>i64</td></tr></thead><tbody><tr><td>&quot;84950DE0614A5C…</td><td>&quot;2018-10-05 12:…</td><td>100000001</td><td>&quot;Disease A - 1&quot;</td><td>1</td></tr><tr><td>&quot;84950DE0614A5C…</td><td>&quot;05/11/2018&quot;</td><td>100000001</td><td>&quot;Disease A - 1&quot;</td><td>1</td></tr><tr><td>&quot;84950DE0614A5C…</td><td>&quot;12-02-2019&quot;</td><td>100000002</td><td>&quot;Disease A - 2&quot;</td><td>1</td></tr><tr><td>&quot;84950DE0614A5C…</td><td>&quot;2020-05-22T08:…</td><td>200000001</td><td>&quot;Disease B - 1&quot;</td><td>1</td></tr><tr><td>&quot;73951AB0712D6E…</td><td>&quot;&quot;</td><td>100000001</td><td>&quot;Disease A - 1&quot;</td><td>1</td></tr><tr><td>&quot;73951AB0712D6E…</td><td>&quot;03-06-2013 15:…</td><td>100000001</td><td>&quot;Disease A - 1&quot;</td><td>1</td></tr><tr><td>&quot;53952EF0503F7F…</td><td>&quot;July 19, 2016&quot;</td><td>200000001</td><td>&quot;Disease B - 1&quot;</td><td>1</td></tr><tr><td>&quot;53952EF0503F7F…</td><td>&quot;2016-08-20 07:…</td><td>200000001</td><td>&quot;Disease B - 1&quot;</td><td>1</td></tr><tr><td>&quot;44966CC0716B4C…</td><td>null</td><td>100000002</td><td>&quot;Disease A - 2&quot;</td><td>1</td></tr><tr><td>&quot;84950DE0614A5C…</td><td>&quot;2018-10-05 12:…</td><td>100000001</td><td>&quot;Disease A - 1&quot;</td><td>1</td></tr><tr><td>&quot;84950DE0614A5C…</td><td>&quot;05/11/2018&quot;</td><td>100000001</td><td>&quot;Disease A - 1&quot;</td><td>1</td></tr><tr><td>&quot;84950DE0614A5C…</td><td>&quot;12-02-2019&quot;</td><td>100000002</td><td>&quot;Disease A - 2&quot;</td><td>1</td></tr><tr><td>&hellip;</td><td>&hellip;</td><td>&hellip;</td><td>&hellip;</td><td>&hellip;</td></tr><tr><td>&quot;53952EF0503F7F…</td><td>&quot;July 19, 2016&quot;</td><td>200000001</td><td>&quot;Disease B - 1&quot;</td><td>1</td></tr><tr><td>&quot;53952EF0503F7F…</td><td>&quot;2016-08-20 07:…</td><td>200000001</td><td>&quot;Disease B - 1&quot;</td><td>1</td></tr><tr><td>&quot;44966CC0716B4C…</td><td>null</td><td>100000002</td><td>&quot;Disease A - 2&quot;</td><td>1</td></tr><tr><td>&quot;84950DE0614A5C…</td><td>&quot;2018-10-05 12:…</td><td>100000001</td><td>&quot;Disease A - 1&quot;</td><td>1</td></tr><tr><td>&quot;84950DE0614A5C…</td><td>&quot;05/11/2018&quot;</td><td>100000001</td><td>&quot;Disease A - 1&quot;</td><td>1</td></tr><tr><td>&quot;84950DE0614A5C…</td><td>&quot;12-02-2019&quot;</td><td>100000002</td><td>&quot;Disease A - 2&quot;</td><td>1</td></tr><tr><td>&quot;84950DE0614A5C…</td><td>&quot;2020-05-22T08:…</td><td>200000001</td><td>&quot;Disease B - 1&quot;</td><td>1</td></tr><tr><td>&quot;73951AB0712D6E…</td><td>&quot;&quot;</td><td>100000001</td><td>&quot;Disease A - 1&quot;</td><td>1</td></tr><tr><td>&quot;73951AB0712D6E…</td><td>&quot;03-06-2013 15:…</td><td>100000001</td><td>&quot;Disease A - 1&quot;</td><td>1</td></tr><tr><td>&quot;53952EF0503F7F…</td><td>&quot;July 19, 2016&quot;</td><td>200000001</td><td>&quot;Disease B - 1&quot;</td><td>1</td></tr><tr><td>&quot;53952EF0503F7F…</td><td>&quot;2016-08-20 07:…</td><td>200000001</td><td>&quot;Disease B - 1&quot;</td><td>1</td></tr><tr><td>&quot;44966CC0716B4C…</td><td>null</td><td>100000002</td><td>&quot;Disease A - 2&quot;</td><td>1</td></tr></tbody></table></div>"
     },
     "execution_count": 62,
     "metadata": {},
     "output_type": "execute_result"
    }
   ],
   "source": [
    "raw_data.data"
   ]
  },
  {
   "cell_type": "markdown",
   "id": "b92ce4b5-928f-43f9-968e-55c252bd5e86",
   "metadata": {},
   "source": [
    "There are different dates, some missing data and an extra column. Let's get rid of these. We pass in a deduplication option, plus the maps of the column. This will create a ProcessedDataset."
   ]
  },
  {
   "cell_type": "code",
   "execution_count": 63,
   "id": "ef1730ae-92d1-4ab9-8045-0beac9f21a99",
   "metadata": {
    "ExecuteTime": {
     "end_time": "2023-12-13T23:51:30.459676Z",
     "start_time": "2023-12-13T23:51:30.428809Z"
    }
   },
   "outputs": [],
   "source": [
    "gp_processed_data = raw_data.process_dataset(\n",
    "    deduplication_options=[\"nhs_number\", \"code\", \"date\"], \n",
    "    column_maps={\"original_code\": \"code\", \"original_term\": \"term\", \"clinical_effective_date\": \"date\", \"pseudo_nhs_number\": \"nhs_number\"}\n",
    ")"
   ]
  },
  {
   "cell_type": "code",
   "execution_count": 64,
   "id": "e8c7f49d-cb40-4486-81d9-dbf8eaa35a8d",
   "metadata": {
    "ExecuteTime": {
     "end_time": "2023-12-13T23:51:30.468995Z",
     "start_time": "2023-12-13T23:51:30.434702Z"
    }
   },
   "outputs": [
    {
     "data": {
      "text/plain": "shape: (7, 3)\n┌───────────────────────────────────┬───────────┬────────────┐\n│ nhs_number                        ┆ code      ┆ date       │\n│ ---                               ┆ ---       ┆ ---        │\n│ str                               ┆ i64       ┆ date       │\n╞═══════════════════════════════════╪═══════════╪════════════╡\n│ 53952EF0503F7F341D9121DBCCC39DE9… ┆ 200000001 ┆ 2016-07-19 │\n│ 84950DE0614A5C241F7223FBCCD27BE8… ┆ 100000001 ┆ 2018-11-05 │\n│ 73951AB0712D6E241E8222EDCCF28AE8… ┆ 100000001 ┆ 2013-06-03 │\n│ 84950DE0614A5C241F7223FBCCD27BE8… ┆ 100000001 ┆ 2018-10-05 │\n│ 84950DE0614A5C241F7223FBCCD27BE8… ┆ 200000001 ┆ 2020-05-22 │\n│ 84950DE0614A5C241F7223FBCCD27BE8… ┆ 100000002 ┆ 2019-02-12 │\n│ 53952EF0503F7F341D9121DBCCC39DE9… ┆ 200000001 ┆ 2016-08-20 │\n└───────────────────────────────────┴───────────┴────────────┘",
      "text/html": "<div><style>\n.dataframe > thead > tr > th,\n.dataframe > tbody > tr > td {\n  text-align: right;\n  white-space: pre-wrap;\n}\n</style>\n<small>shape: (7, 3)</small><table border=\"1\" class=\"dataframe\"><thead><tr><th>nhs_number</th><th>code</th><th>date</th></tr><tr><td>str</td><td>i64</td><td>date</td></tr></thead><tbody><tr><td>&quot;53952EF0503F7F…</td><td>200000001</td><td>2016-07-19</td></tr><tr><td>&quot;84950DE0614A5C…</td><td>100000001</td><td>2018-11-05</td></tr><tr><td>&quot;73951AB0712D6E…</td><td>100000001</td><td>2013-06-03</td></tr><tr><td>&quot;84950DE0614A5C…</td><td>100000001</td><td>2018-10-05</td></tr><tr><td>&quot;84950DE0614A5C…</td><td>200000001</td><td>2020-05-22</td></tr><tr><td>&quot;84950DE0614A5C…</td><td>100000002</td><td>2019-02-12</td></tr><tr><td>&quot;53952EF0503F7F…</td><td>200000001</td><td>2016-08-20</td></tr></tbody></table></div>"
     },
     "execution_count": 64,
     "metadata": {},
     "output_type": "execute_result"
    }
   ],
   "source": [
    "gp_processed_data.data"
   ]
  },
  {
   "cell_type": "markdown",
   "source": [
    "Now you will see that there is a clean dataset. \n",
    "\n",
    "Let's move onto Demographics. "
   ],
   "metadata": {
    "collapsed": false
   },
   "id": "342f22c04f83c4a3"
  },
  {
   "cell_type": "code",
   "execution_count": 65,
   "outputs": [],
   "source": [
    "demographics = DemographicDataset(path_to_mapping_file=\"demographics/mapping.txt\", path_to_demographic_file=\"demographics/gender_dummy.txt\")"
   ],
   "metadata": {
    "collapsed": false,
    "ExecuteTime": {
     "end_time": "2023-12-13T23:51:30.517542Z",
     "start_time": "2023-12-13T23:51:30.462173Z"
    }
   },
   "id": "ad29ec54a3412fc3"
  },
  {
   "cell_type": "markdown",
   "source": [
    "Similar to RawDataset, we can process this data to standardise it. We need to pass in a map of what columns mean in each of the 2 input files.  "
   ],
   "metadata": {
    "collapsed": false
   },
   "id": "4df8b24d17cfea86"
  },
  {
   "cell_type": "code",
   "execution_count": 66,
   "outputs": [],
   "source": [
    "mapping_config = {\n",
    "    \"mapping\": {\n",
    "        \"OrageneID\": \"study_id\",\n",
    "        \"PseudoNHS_2023-11-08\": \"nhs_number\"\n",
    "    },\n",
    "    \"demographics\": {\n",
    "        \"S1QST_Oragene_ID\": \"study_id\",\n",
    "        \"S1QST_MM-YYYY_ofBirth\": \"dob\",\n",
    "        \"S1QST_Gender\": \"gender\"\n",
    "    }\n",
    "}"
   ],
   "metadata": {
    "collapsed": false,
    "ExecuteTime": {
     "end_time": "2023-12-13T23:51:30.549719Z",
     "start_time": "2023-12-13T23:51:30.515147Z"
    }
   },
   "id": "18106025515ff3ed"
  },
  {
   "cell_type": "code",
   "execution_count": 67,
   "outputs": [],
   "source": [
    "demographics.process_dataset(mapping_config)"
   ],
   "metadata": {
    "collapsed": false,
    "ExecuteTime": {
     "end_time": "2023-12-13T23:51:30.584121Z",
     "start_time": "2023-12-13T23:51:30.553387Z"
    }
   },
   "id": "9876b27785391866"
  },
  {
   "cell_type": "code",
   "execution_count": 68,
   "outputs": [
    {
     "data": {
      "text/plain": "shape: (3, 3)\n┌───────────────────────────────────┬────────┬────────────┐\n│ nhs_number                        ┆ gender ┆ dob        │\n│ ---                               ┆ ---    ┆ ---        │\n│ str                               ┆ i64    ┆ date       │\n╞═══════════════════════════════════╪════════╪════════════╡\n│ 84950DE0614A5C241F7223FBCCD27BE8… ┆ 2      ┆ 1983-10-15 │\n│ 73951AB0712D6E241E8222EDCCF28AE8… ┆ 1      ┆ 1979-01-15 │\n│ 53952EF0503F7F341D9121DBCCC39DE9… ┆ 1      ┆ 1948-06-15 │\n└───────────────────────────────────┴────────┴────────────┘",
      "text/html": "<div><style>\n.dataframe > thead > tr > th,\n.dataframe > tbody > tr > td {\n  text-align: right;\n  white-space: pre-wrap;\n}\n</style>\n<small>shape: (3, 3)</small><table border=\"1\" class=\"dataframe\"><thead><tr><th>nhs_number</th><th>gender</th><th>dob</th></tr><tr><td>str</td><td>i64</td><td>date</td></tr></thead><tbody><tr><td>&quot;84950DE0614A5C…</td><td>2</td><td>1983-10-15</td></tr><tr><td>&quot;73951AB0712D6E…</td><td>1</td><td>1979-01-15</td></tr><tr><td>&quot;53952EF0503F7F…</td><td>1</td><td>1948-06-15</td></tr></tbody></table></div>"
     },
     "execution_count": 68,
     "metadata": {},
     "output_type": "execute_result"
    }
   ],
   "source": [
    "demographics.data"
   ],
   "metadata": {
    "collapsed": false,
    "ExecuteTime": {
     "end_time": "2023-12-13T23:51:30.599372Z",
     "start_time": "2023-12-13T23:51:30.587833Z"
    }
   },
   "id": "6a505acf45ce6838"
  },
  {
   "cell_type": "markdown",
   "source": [
    "We now have a clean dataset for age and gender. "
   ],
   "metadata": {
    "collapsed": false
   },
   "id": "d2ca82c9fe6254b5"
  },
  {
   "cell_type": "markdown",
   "id": "068d38cd-9442-47ef-9f58-5c6d95ae0702",
   "metadata": {},
   "source": [
    "# Phenotype Report"
   ]
  },
  {
   "cell_type": "code",
   "execution_count": 69,
   "id": "15cf0235-196e-437f-9d2a-8ec04f44d41c",
   "metadata": {
    "ExecuteTime": {
     "end_time": "2023-12-13T23:51:30.605101Z",
     "start_time": "2023-12-13T23:51:30.600365Z"
    }
   },
   "outputs": [],
   "source": [
    "from tretools.phenotype_report.report import PhenotypeReport"
   ]
  },
  {
   "cell_type": "markdown",
   "source": [
    "We create an empty report. "
   ],
   "metadata": {
    "collapsed": false
   },
   "id": "5a4297aee497d3db"
  },
  {
   "cell_type": "code",
   "execution_count": 70,
   "id": "b292bfdc-8a6b-4027-a4e9-e099586288a8",
   "metadata": {
    "ExecuteTime": {
     "end_time": "2023-12-13T23:51:30.605602Z",
     "start_time": "2023-12-13T23:51:30.603770Z"
    }
   },
   "outputs": [],
   "source": [
    "report = PhenotypeReport(\"Disease A\")"
   ]
  },
  {
   "cell_type": "markdown",
   "source": [
    "We now add counts. A count includes the following fields:\n",
    "\n",
    "- Dataset (compulsory)\n",
    "- Codelist (compulsory)\n",
    "- Demographics (optional)"
   ],
   "metadata": {
    "collapsed": false
   },
   "id": "7183039f911eee53"
  },
  {
   "cell_type": "code",
   "execution_count": 71,
   "id": "f32d73a4-ce41-4952-ad08-2dec033ec8cb",
   "metadata": {
    "ExecuteTime": {
     "end_time": "2023-12-13T23:51:30.645027Z",
     "start_time": "2023-12-13T23:51:30.607333Z"
    }
   },
   "outputs": [],
   "source": [
    "report.add_count(\"primary_care\", codelist=snomed_codelist, dataset=processed_data, demographics=demographics)"
   ]
  },
  {
   "cell_type": "markdown",
   "source": [
    "This gives us a count summary. "
   ],
   "metadata": {
    "collapsed": false
   },
   "id": "fc3458d2d7c31182"
  },
  {
   "cell_type": "code",
   "execution_count": 72,
   "id": "b09954d5-4561-482d-8c66-d10f17774d95",
   "metadata": {
    "ExecuteTime": {
     "end_time": "2023-12-13T23:51:30.645708Z",
     "start_time": "2023-12-13T23:51:30.611978Z"
    }
   },
   "outputs": [
    {
     "data": {
      "text/plain": "{'primary_care': {'code': [100000001, 100000002],\n  'patient_count': 2,\n  'event_count': 4,\n  'nhs_numbers': shape: (2, 5)\n  ┌───────────────────────────────────┬───────────┬────────────┬──────────────┬────────┐\n  │ nhs_number                        ┆ code      ┆ date       ┆ age_at_event ┆ gender │\n  │ ---                               ┆ ---       ┆ ---        ┆ ---          ┆ ---    │\n  │ str                               ┆ i64       ┆ date       ┆ i64          ┆ str    │\n  ╞═══════════════════════════════════╪═══════════╪════════════╪══════════════╪════════╡\n  │ 84950DE0614A5C241F7223FBCCD27BE8… ┆ 100000001 ┆ 2018-10-05 ┆ 34           ┆ F      │\n  │ 73951AB0712D6E241E8222EDCCF28AE8… ┆ 100000001 ┆ 2013-06-03 ┆ 34           ┆ M      │\n  └───────────────────────────────────┴───────────┴────────────┴──────────────┴────────┘,\n  'codelist_path': 'codelists/disease_a_snomed.csv',\n  'codelist_type': 'SNOMED',\n  'dataset_type': 'primary_care',\n  'log': ['2023-12-13 23:51:30.605885: There are 7 events in the dataset',\n   '2023-12-13 23:51:30.605908: Counting events for codelist primary_care',\n   '2023-12-13 23:51:30.606699: There are 4 events in the dataset for the codelist',\n   '2023-12-13 23:51:30.607362: There are 2 people in the dataset for the codelist',\n   '2023-12-13 23:51:30.608758: Demographic data added to the report'],\n  'dataset_log': ['2023-12-13 23:36:02.942879: Loaded data from Datasets/primary_care_data.csv',\n   '2023-12-13 23:37:01.024749: Column names not validated',\n   '2023-12-13 23:37:01.026232: Key columns are standardised, however extra columns found: extra_col. Run _drop_unneeded_columns() to drop these columns.',\n   '2023-12-13 23:37:01.026626: Unneeded 2 column(s) dropped',\n   '2023-12-13 23:37:01.033676: Dropped 6 rows with empty values or empty date strings',\n   '2023-12-13 23:37:01.043116: Date format standarised',\n   '2023-12-13 23:37:01.046882: Deduplicated data based on: nhs_number, code, date']}}"
     },
     "execution_count": 72,
     "metadata": {},
     "output_type": "execute_result"
    }
   ],
   "source": [
    "report.counts"
   ]
  },
  {
   "cell_type": "markdown",
   "source": [
    "We can add a further count. Let's use a different dataset - one from barts to do this. "
   ],
   "metadata": {
    "collapsed": false
   },
   "id": "cb6728e67f1dcb01"
  },
  {
   "cell_type": "code",
   "execution_count": 73,
   "outputs": [],
   "source": [
    "barts_data = RawDataset(\"datasets/barts_diagnosis.tab\", dataset_type=\"barts_health\", coding_system=\"ICD10\")\n",
    "processed_data_hospital = barts_data.process_dataset(deduplication_options=[\"nhs_number\", \"code\", \"date\"],\n",
    "                           column_maps={\n",
    "                               \"ICD_Diagnosis_Cd\": \"code\", \n",
    "                               \"ICD_Diag_Desc\": \"term\", \n",
    "                               \"Activity_date\": \"date\", \n",
    "                               \"PseudoNHS_2023_04_24\": \"nhs_number\"}\n",
    "                           )"
   ],
   "metadata": {
    "collapsed": false,
    "ExecuteTime": {
     "end_time": "2023-12-13T23:51:30.646181Z",
     "start_time": "2023-12-13T23:51:30.614711Z"
    }
   },
   "id": "7ec9a6e83c2d0be9"
  },
  {
   "cell_type": "code",
   "execution_count": 74,
   "outputs": [],
   "source": [
    "report.add_count(\"secondary_care\", codelist=icd_codelist, dataset=processed_data_hospital, demographics=demographics)\n"
   ],
   "metadata": {
    "collapsed": false,
    "ExecuteTime": {
     "end_time": "2023-12-13T23:51:30.671916Z",
     "start_time": "2023-12-13T23:51:30.647931Z"
    }
   },
   "id": "3768e938c7604baa"
  },
  {
   "cell_type": "markdown",
   "source": [
    "Let's examine our counts now:"
   ],
   "metadata": {
    "collapsed": false
   },
   "id": "ce71ffb444e2cdb0"
  },
  {
   "cell_type": "code",
   "execution_count": 75,
   "outputs": [
    {
     "data": {
      "text/plain": "{'primary_care': {'code': [100000001, 100000002],\n  'patient_count': 2,\n  'event_count': 4,\n  'nhs_numbers': shape: (2, 5)\n  ┌───────────────────────────────────┬───────────┬────────────┬──────────────┬────────┐\n  │ nhs_number                        ┆ code      ┆ date       ┆ age_at_event ┆ gender │\n  │ ---                               ┆ ---       ┆ ---        ┆ ---          ┆ ---    │\n  │ str                               ┆ i64       ┆ date       ┆ i64          ┆ str    │\n  ╞═══════════════════════════════════╪═══════════╪════════════╪══════════════╪════════╡\n  │ 84950DE0614A5C241F7223FBCCD27BE8… ┆ 100000001 ┆ 2018-10-05 ┆ 34           ┆ F      │\n  │ 73951AB0712D6E241E8222EDCCF28AE8… ┆ 100000001 ┆ 2013-06-03 ┆ 34           ┆ M      │\n  └───────────────────────────────────┴───────────┴────────────┴──────────────┴────────┘,\n  'codelist_path': 'codelists/disease_a_snomed.csv',\n  'codelist_type': 'SNOMED',\n  'dataset_type': 'primary_care',\n  'log': ['2023-12-13 23:51:30.605885: There are 7 events in the dataset',\n   '2023-12-13 23:51:30.605908: Counting events for codelist primary_care',\n   '2023-12-13 23:51:30.606699: There are 4 events in the dataset for the codelist',\n   '2023-12-13 23:51:30.607362: There are 2 people in the dataset for the codelist',\n   '2023-12-13 23:51:30.608758: Demographic data added to the report'],\n  'dataset_log': ['2023-12-13 23:36:02.942879: Loaded data from Datasets/primary_care_data.csv',\n   '2023-12-13 23:37:01.024749: Column names not validated',\n   '2023-12-13 23:37:01.026232: Key columns are standardised, however extra columns found: extra_col. Run _drop_unneeded_columns() to drop these columns.',\n   '2023-12-13 23:37:01.026626: Unneeded 2 column(s) dropped',\n   '2023-12-13 23:37:01.033676: Dropped 6 rows with empty values or empty date strings',\n   '2023-12-13 23:37:01.043116: Date format standarised',\n   '2023-12-13 23:37:01.046882: Deduplicated data based on: nhs_number, code, date']},\n 'secondary_care': {'code': ['A021', 'A01'],\n  'patient_count': 2,\n  'event_count': 2,\n  'nhs_numbers': shape: (2, 5)\n  ┌───────────────────────────────────┬──────┬────────────┬──────────────┬────────┐\n  │ nhs_number                        ┆ code ┆ date       ┆ age_at_event ┆ gender │\n  │ ---                               ┆ ---  ┆ ---        ┆ ---          ┆ ---    │\n  │ str                               ┆ str  ┆ date       ┆ i64          ┆ str    │\n  ╞═══════════════════════════════════╪══════╪════════════╪══════════════╪════════╡\n  │ 84950DE0614A5C241F7223FBCCD27BE8… ┆ A01  ┆ 2012-12-13 ┆ 29           ┆ F      │\n  │ 53952EF0503F7F341D9121DBCCC39DE9… ┆ A01  ┆ 2012-12-13 ┆ 64           ┆ M      │\n  └───────────────────────────────────┴──────┴────────────┴──────────────┴────────┘,\n  'codelist_path': 'Codelists/disease_a_icd.csv',\n  'codelist_type': 'ICD10',\n  'dataset_type': 'barts_health',\n  'log': ['2023-12-13 23:51:30.646201: There are 10 events in the dataset',\n   '2023-12-13 23:51:30.646213: Counting events for codelist secondary_care',\n   '2023-12-13 23:51:30.646688: There are 2 events in the dataset for the codelist',\n   '2023-12-13 23:51:30.647247: There are 2 people in the dataset for the codelist',\n   '2023-12-13 23:51:30.648106: Demographic data added to the report'],\n  'dataset_log': ['2023-12-13 23:51:30.615347: Loaded data from datasets/barts_diagnosis.tab',\n   '2023-12-13 23:51:30.615417: Column names not validated',\n   '2023-12-13 23:51:30.615459: Key columns are standardised, however extra columns found: ICD_Diagnosis_Num, CDS_Activity_Dt. Run _drop_unneeded_columns() to drop these columns.',\n   '2023-12-13 23:51:30.615501: Unneeded 3 column(s) dropped',\n   '2023-12-13 23:51:30.615889: Dropped 0 rows with empty values or empty date strings',\n   '2023-12-13 23:51:30.616344: Date format standarised',\n   '2023-12-13 23:51:30.616881: Deduplicated data based on: nhs_number, code, date']}}"
     },
     "execution_count": 75,
     "metadata": {},
     "output_type": "execute_result"
    }
   ],
   "source": [
    "report.counts"
   ],
   "metadata": {
    "collapsed": false,
    "ExecuteTime": {
     "end_time": "2023-12-13T23:51:30.678735Z",
     "start_time": "2023-12-13T23:51:30.658517Z"
    }
   },
   "id": "fa3e3775db97456"
  },
  {
   "cell_type": "markdown",
   "source": [
    "This produces a report that is in its raw form. It can be used by SummaryReportTransformer for now but in the future, more report transformer types will be added. The advantage of this, is that a phenotype report can run once but be used for many outputs. \n",
    "\n",
    "# Summary Report"
   ],
   "metadata": {
    "collapsed": false
   },
   "id": "db1c0e9d9b7e8eb2"
  },
  {
   "cell_type": "code",
   "execution_count": 76,
   "outputs": [],
   "source": [
    "from tretools.report_transformers.summary_report import SummaryReportTransformer"
   ],
   "metadata": {
    "collapsed": false,
    "ExecuteTime": {
     "end_time": "2023-12-13T23:51:56.892718Z",
     "start_time": "2023-12-13T23:51:56.835279Z"
    }
   },
   "id": "88f56f71d7c0534b"
  },
  {
   "cell_type": "markdown",
   "source": [
    "We put our reports into a list. "
   ],
   "metadata": {
    "collapsed": false
   },
   "id": "8d8b7f26e0d89ef3"
  },
  {
   "cell_type": "code",
   "execution_count": 80,
   "outputs": [],
   "source": [
    "reports = [report]"
   ],
   "metadata": {
    "collapsed": false,
    "ExecuteTime": {
     "end_time": "2023-12-13T23:53:50.423008Z",
     "start_time": "2023-12-13T23:53:50.414908Z"
    }
   },
   "id": "ffbbbf4d71bef5c1"
  },
  {
   "cell_type": "markdown",
   "source": [
    "We create our SummaryReportTransformer() from the reports, and then transform the output. We must pass in a path where we want the summary to be created. "
   ],
   "metadata": {
    "collapsed": false
   },
   "id": "40e4e055760e5661"
  },
  {
   "cell_type": "code",
   "execution_count": 86,
   "outputs": [],
   "source": [
    "summary_report = SummaryReportTransformer.load_from_objects(reports)"
   ],
   "metadata": {
    "collapsed": false,
    "ExecuteTime": {
     "end_time": "2023-12-13T23:56:48.564901Z",
     "start_time": "2023-12-13T23:56:48.555581Z"
    }
   },
   "id": "4517e447b297983d"
  },
  {
   "cell_type": "code",
   "execution_count": 87,
   "outputs": [],
   "source": [
    "summary_report.transform(path=\"summary_report\")"
   ],
   "metadata": {
    "collapsed": false,
    "ExecuteTime": {
     "end_time": "2023-12-13T23:57:36.773433Z",
     "start_time": "2023-12-13T23:57:36.451245Z"
    }
   },
   "id": "34fae0a7d790b1ae"
  },
  {
   "cell_type": "markdown",
   "source": [
    "This should output a number of folders and files contain your report at that path. "
   ],
   "metadata": {
    "collapsed": false
   },
   "id": "e8c5cc824d8accdd"
  }
 ],
 "metadata": {
  "kernelspec": {
   "display_name": "Python 3 (ipykernel)",
   "language": "python",
   "name": "python3"
  },
  "language_info": {
   "codemirror_mode": {
    "name": "ipython",
    "version": 3
   },
   "file_extension": ".py",
   "mimetype": "text/x-python",
   "name": "python",
   "nbconvert_exporter": "python",
   "pygments_lexer": "ipython3",
   "version": "3.9.6"
  }
 },
 "nbformat": 4,
 "nbformat_minor": 5
}
