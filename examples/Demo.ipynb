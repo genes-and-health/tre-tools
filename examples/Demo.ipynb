{
 "cells": [
  {
   "cell_type": "markdown",
   "id": "85447e80-bf93-44d9-a22e-4daf2641b042",
   "metadata": {},
   "source": [
    "## Import TRE tools"
   ]
  },
  {
   "cell_type": "code",
   "execution_count": 1,
   "id": "1ae6f29d",
   "metadata": {},
   "outputs": [],
   "source": [
    "import tretools"
   ]
  },
  {
   "cell_type": "code",
   "execution_count": 2,
   "id": "80200599-5d98-4b82-af20-e98dd94cbdac",
   "metadata": {},
   "outputs": [
    {
     "ename": "ModuleNotFoundError",
     "evalue": "No module named 'tretools'",
     "output_type": "error",
     "traceback": [
      "\u001b[0;31m---------------------------------------------------------------------------\u001b[0m",
      "\u001b[0;31mModuleNotFoundError\u001b[0m                       Traceback (most recent call last)",
      "Cell \u001b[0;32mIn[2], line 1\u001b[0m\n\u001b[0;32m----> 1\u001b[0m \u001b[39mfrom\u001b[39;00m \u001b[39mtretools\u001b[39;00m\u001b[39m.\u001b[39;00m\u001b[39mcodelists\u001b[39;00m\u001b[39m.\u001b[39;00m\u001b[39mcodelist\u001b[39;00m \u001b[39mimport\u001b[39;00m Codelist\n",
      "\u001b[0;31mModuleNotFoundError\u001b[0m: No module named 'tretools'"
     ]
    }
   ],
   "source": [
    "\n",
    "from tretools.codelists.codelist import Codelist"
   ]
  },
  {
   "cell_type": "code",
   "execution_count": 2,
   "id": "c80116ca-c998-459b-baab-6969c0a086e7",
   "metadata": {},
   "outputs": [],
   "source": [
    "from tretools.datasets.raw_dataset import RawDataset\n",
    "from tretools.datasets.processed_dataset import ProcessedDataset"
   ]
  },
  {
   "cell_type": "markdown",
   "id": "cb8f41dc-4dcf-41c3-8d48-b37d8a25350f",
   "metadata": {},
   "source": [
    "## Codelists"
   ]
  },
  {
   "cell_type": "code",
   "execution_count": 3,
   "id": "e04e71a1-1d4f-409f-ac69-88f3f1f03fb8",
   "metadata": {},
   "outputs": [],
   "source": [
    "snomed_codelist = Codelist(\"Codelists/disease_a_snomed.csv\", \"SNOMED\")"
   ]
  },
  {
   "cell_type": "code",
   "execution_count": 4,
   "id": "c10ab0ce-f63a-4ebb-8fc3-5d7d6b80ace5",
   "metadata": {},
   "outputs": [
    {
     "data": {
      "text/plain": [
       "{'100000001', '100000002'}"
      ]
     },
     "execution_count": 4,
     "metadata": {},
     "output_type": "execute_result"
    }
   ],
   "source": [
    "snomed_codelist.codes"
   ]
  },
  {
   "cell_type": "code",
   "execution_count": 5,
   "id": "02ff3618-981d-4f89-a289-4ac6813a54ec",
   "metadata": {},
   "outputs": [
    {
     "data": {
      "text/plain": [
       "'SNOMED'"
      ]
     },
     "execution_count": 5,
     "metadata": {},
     "output_type": "execute_result"
    }
   ],
   "source": [
    "snomed_codelist.codelist_type"
   ]
  },
  {
   "cell_type": "code",
   "execution_count": 6,
   "id": "83a2b4f0-56ce-422e-a5ea-6843515016cb",
   "metadata": {},
   "outputs": [],
   "source": [
    "icd_codelist = Codelist(\"Codelists/disease_a_icd.csv\", \"ICD10\")"
   ]
  },
  {
   "cell_type": "code",
   "execution_count": 8,
   "id": "051b26fb-31ae-4c99-827c-098677c50691",
   "metadata": {},
   "outputs": [
    {
     "data": {
      "text/plain": [
       "{'A01', 'A02'}"
      ]
     },
     "execution_count": 8,
     "metadata": {},
     "output_type": "execute_result"
    }
   ],
   "source": [
    "icd_codelist.codes"
   ]
  },
  {
   "cell_type": "code",
   "execution_count": 10,
   "id": "2db2a153-31e8-46a2-ba8b-e096a1a1d136",
   "metadata": {},
   "outputs": [
    {
     "data": {
      "text/plain": [
       "[{'code': 'A01', 'term': 'Disease A - 1'},\n",
       " {'code': 'A02', 'term': 'Disease A - 2'}]"
      ]
     },
     "execution_count": 10,
     "metadata": {},
     "output_type": "execute_result"
    }
   ],
   "source": [
    "icd_codelist.data"
   ]
  },
  {
   "cell_type": "markdown",
   "id": "43cb2145-2744-4769-8ac5-21abd5d5b5f5",
   "metadata": {},
   "source": [
    "Now lets pass in `add_x_codes` to see the difference. "
   ]
  },
  {
   "cell_type": "code",
   "execution_count": 11,
   "id": "e0bb5c71-7636-4a23-92fd-a0f8057d18a3",
   "metadata": {},
   "outputs": [],
   "source": [
    "icd_codelist_with_x = Codelist(\"Codelists/disease_a_icd.csv\", \"ICD10\", add_x_codes=True)"
   ]
  },
  {
   "cell_type": "code",
   "execution_count": 12,
   "id": "0d47260c-ffa5-4a8a-a422-2e1c6e4672fa",
   "metadata": {},
   "outputs": [
    {
     "data": {
      "text/plain": [
       "[{'code': 'A01', 'term': 'Disease A - 1'},\n",
       " {'code': 'A01X', 'term': 'Disease A - 1'},\n",
       " {'code': 'A02', 'term': 'Disease A - 2'},\n",
       " {'code': 'A02X', 'term': 'Disease A - 2'}]"
      ]
     },
     "execution_count": 12,
     "metadata": {},
     "output_type": "execute_result"
    }
   ],
   "source": [
    "icd_codelist_with_x.data"
   ]
  },
  {
   "cell_type": "markdown",
   "id": "3c1e695c-2da4-439c-ba37-a56d67161164",
   "metadata": {},
   "source": [
    "## Datasets"
   ]
  },
  {
   "cell_type": "code",
   "execution_count": 14,
   "id": "f762cb4b-47b5-4c25-a0e9-539ce411cf11",
   "metadata": {},
   "outputs": [],
   "source": [
    "raw_data = RawDataset(path=\"Datasets/primary_care_data.csv\", coding_system=\"SNOMED\", dataset_type=\"primary_care\")"
   ]
  },
  {
   "cell_type": "code",
   "execution_count": 16,
   "id": "b06ec35f-80b9-469f-84d1-f1314101c6eb",
   "metadata": {},
   "outputs": [
    {
     "data": {
      "text/html": [
       "<div><style>\n",
       ".dataframe > thead > tr > th,\n",
       ".dataframe > tbody > tr > td {\n",
       "  text-align: right;\n",
       "  white-space: pre-wrap;\n",
       "}\n",
       "</style>\n",
       "<small>shape: (5, 5)</small><table border=\"1\" class=\"dataframe\"><thead><tr><th>pseudo_nhs_number</th><th>clinical_effective_date</th><th>original_code</th><th>original_term</th><th>extra_col</th></tr><tr><td>str</td><td>str</td><td>i64</td><td>str</td><td>i64</td></tr></thead><tbody><tr><td>&quot;84950DE0614A5C…</td><td>&quot;2018-10-05 12:…</td><td>100000001</td><td>&quot;Disease A - 1&quot;</td><td>1</td></tr><tr><td>&quot;84950DE0614A5C…</td><td>&quot;05/11/2018&quot;</td><td>100000001</td><td>&quot;Disease A - 1&quot;</td><td>1</td></tr><tr><td>&quot;84950DE0614A5C…</td><td>&quot;12-02-2019&quot;</td><td>100000002</td><td>&quot;Disease A - 2&quot;</td><td>1</td></tr><tr><td>&quot;84950DE0614A5C…</td><td>&quot;2020-05-22T08:…</td><td>200000001</td><td>&quot;Disease B - 1&quot;</td><td>1</td></tr><tr><td>&quot;73951AB0712D6E…</td><td>&quot;&quot;</td><td>100000001</td><td>&quot;Disease A - 1&quot;</td><td>1</td></tr></tbody></table></div>"
      ],
      "text/plain": [
       "shape: (5, 5)\n",
       "┌────────────────────────────┬─────────────────────────┬───────────────┬───────────────┬───────────┐\n",
       "│ pseudo_nhs_number          ┆ clinical_effective_date ┆ original_code ┆ original_term ┆ extra_col │\n",
       "│ ---                        ┆ ---                     ┆ ---           ┆ ---           ┆ ---       │\n",
       "│ str                        ┆ str                     ┆ i64           ┆ str           ┆ i64       │\n",
       "╞════════════════════════════╪═════════════════════════╪═══════════════╪═══════════════╪═══════════╡\n",
       "│ 84950DE0614A5C241F7223FBCC ┆ 2018-10-05 12:15:30     ┆ 100000001     ┆ Disease A - 1 ┆ 1         │\n",
       "│ D27BE8…                    ┆                         ┆               ┆               ┆           │\n",
       "│ 84950DE0614A5C241F7223FBCC ┆ 05/11/2018              ┆ 100000001     ┆ Disease A - 1 ┆ 1         │\n",
       "│ D27BE8…                    ┆                         ┆               ┆               ┆           │\n",
       "│ 84950DE0614A5C241F7223FBCC ┆ 12-02-2019              ┆ 100000002     ┆ Disease A - 2 ┆ 1         │\n",
       "│ D27BE8…                    ┆                         ┆               ┆               ┆           │\n",
       "│ 84950DE0614A5C241F7223FBCC ┆ 2020-05-22T08:45:50     ┆ 200000001     ┆ Disease B - 1 ┆ 1         │\n",
       "│ D27BE8…                    ┆                         ┆               ┆               ┆           │\n",
       "│ 73951AB0712D6E241E8222EDCC ┆                         ┆ 100000001     ┆ Disease A - 1 ┆ 1         │\n",
       "│ F28AE8…                    ┆                         ┆               ┆               ┆           │\n",
       "└────────────────────────────┴─────────────────────────┴───────────────┴───────────────┴───────────┘"
      ]
     },
     "execution_count": 16,
     "metadata": {},
     "output_type": "execute_result"
    }
   ],
   "source": [
    "raw_data.data.head()"
   ]
  },
  {
   "cell_type": "markdown",
   "id": "b92ce4b5-928f-43f9-968e-55c252bd5e86",
   "metadata": {},
   "source": [
    "There are different dates, some missing data and an extra column. Let's get rid of these"
   ]
  },
  {
   "cell_type": "code",
   "execution_count": 17,
   "id": "ef1730ae-92d1-4ab9-8045-0beac9f21a99",
   "metadata": {},
   "outputs": [],
   "source": [
    "processed_data = raw_data.process_dataset(\n",
    "    deduplication_options=[\"nhs_number\", \"code\", \"date\"], \n",
    "    column_maps={\"original_code\": \"code\", \"original_term\": \"term\", \"clinical_effective_date\": \"date\", \"pseudo_nhs_number\": \"nhs_number\"}\n",
    ")"
   ]
  },
  {
   "cell_type": "code",
   "execution_count": 18,
   "id": "e8c7f49d-cb40-4486-81d9-dbf8eaa35a8d",
   "metadata": {},
   "outputs": [
    {
     "data": {
      "text/html": [
       "<div><style>\n",
       ".dataframe > thead > tr > th,\n",
       ".dataframe > tbody > tr > td {\n",
       "  text-align: right;\n",
       "  white-space: pre-wrap;\n",
       "}\n",
       "</style>\n",
       "<small>shape: (5, 4)</small><table border=\"1\" class=\"dataframe\"><thead><tr><th>nhs_number</th><th>code</th><th>term</th><th>date</th></tr><tr><td>str</td><td>i64</td><td>str</td><td>date</td></tr></thead><tbody><tr><td>&quot;84950DE0614A5C…</td><td>100000002</td><td>&quot;Disease A - 2&quot;</td><td>2019-02-12</td></tr><tr><td>&quot;73951AB0712D6E…</td><td>100000001</td><td>&quot;Disease A - 1&quot;</td><td>2013-06-03</td></tr><tr><td>&quot;84950DE0614A5C…</td><td>100000001</td><td>&quot;Disease A - 1&quot;</td><td>2018-10-05</td></tr><tr><td>&quot;84950DE0614A5C…</td><td>100000001</td><td>&quot;Disease A - 1&quot;</td><td>2018-11-05</td></tr><tr><td>&quot;53952EF0503F7F…</td><td>200000001</td><td>&quot;Disease B - 1&quot;</td><td>2016-08-20</td></tr></tbody></table></div>"
      ],
      "text/plain": [
       "shape: (5, 4)\n",
       "┌───────────────────────────────────┬───────────┬───────────────┬────────────┐\n",
       "│ nhs_number                        ┆ code      ┆ term          ┆ date       │\n",
       "│ ---                               ┆ ---       ┆ ---           ┆ ---        │\n",
       "│ str                               ┆ i64       ┆ str           ┆ date       │\n",
       "╞═══════════════════════════════════╪═══════════╪═══════════════╪════════════╡\n",
       "│ 84950DE0614A5C241F7223FBCCD27BE8… ┆ 100000002 ┆ Disease A - 2 ┆ 2019-02-12 │\n",
       "│ 73951AB0712D6E241E8222EDCCF28AE8… ┆ 100000001 ┆ Disease A - 1 ┆ 2013-06-03 │\n",
       "│ 84950DE0614A5C241F7223FBCCD27BE8… ┆ 100000001 ┆ Disease A - 1 ┆ 2018-10-05 │\n",
       "│ 84950DE0614A5C241F7223FBCCD27BE8… ┆ 100000001 ┆ Disease A - 1 ┆ 2018-11-05 │\n",
       "│ 53952EF0503F7F341D9121DBCCC39DE9… ┆ 200000001 ┆ Disease B - 1 ┆ 2016-08-20 │\n",
       "└───────────────────────────────────┴───────────┴───────────────┴────────────┘"
      ]
     },
     "execution_count": 18,
     "metadata": {},
     "output_type": "execute_result"
    }
   ],
   "source": [
    "processed_data.data.head()"
   ]
  },
  {
   "cell_type": "markdown",
   "id": "068d38cd-9442-47ef-9f58-5c6d95ae0702",
   "metadata": {},
   "source": [
    "# Phenotype Report"
   ]
  },
  {
   "cell_type": "code",
   "execution_count": 19,
   "id": "15cf0235-196e-437f-9d2a-8ec04f44d41c",
   "metadata": {},
   "outputs": [],
   "source": [
    "from tretools.phenotype_report.report import PhenotypeReport"
   ]
  },
  {
   "cell_type": "code",
   "execution_count": 20,
   "id": "b292bfdc-8a6b-4027-a4e9-e099586288a8",
   "metadata": {},
   "outputs": [],
   "source": [
    "report = PhenotypeReport(\"Disease A\")"
   ]
  },
  {
   "cell_type": "code",
   "execution_count": 21,
   "id": "f32d73a4-ce41-4952-ad08-2dec033ec8cb",
   "metadata": {},
   "outputs": [],
   "source": [
    "report.add_count(\"primary_care\", snomed_codelist, processed_data)"
   ]
  },
  {
   "cell_type": "code",
   "execution_count": 22,
   "id": "b09954d5-4561-482d-8c66-d10f17774d95",
   "metadata": {},
   "outputs": [
    {
     "data": {
      "text/plain": [
       "{'primary_care': {'code': [100000002, 100000001],\n",
       "  'patient_count': 2,\n",
       "  'event_count': 4,\n",
       "  'nhs_numbers': shape: (2, 4)\n",
       "  ┌───────────────────────────────────┬───────────┬───────────────┬────────────┐\n",
       "  │ nhs_number                        ┆ code      ┆ term          ┆ date       │\n",
       "  │ ---                               ┆ ---       ┆ ---           ┆ ---        │\n",
       "  │ str                               ┆ i64       ┆ str           ┆ date       │\n",
       "  ╞═══════════════════════════════════╪═══════════╪═══════════════╪════════════╡\n",
       "  │ 73951AB0712D6E241E8222EDCCF28AE8… ┆ 100000001 ┆ Disease A - 1 ┆ 2013-06-03 │\n",
       "  │ 84950DE0614A5C241F7223FBCCD27BE8… ┆ 100000001 ┆ Disease A - 1 ┆ 2018-10-05 │\n",
       "  └───────────────────────────────────┴───────────┴───────────────┴────────────┘,\n",
       "  'codelist_type': 'SNOMED',\n",
       "  'dataset_type': 'primary_care',\n",
       "  'log': ['2023-10-31 14:16:58.522533: There are 7 events in the dataset',\n",
       "   '2023-10-31 14:16:58.526656: Counting events for codelist primary_care',\n",
       "   '2023-10-31 14:16:58.574668: There are 4 events in the dataset for the codelist',\n",
       "   '2023-10-31 14:16:58.594226: There are 2 people in the dataset for the codelist']}}"
      ]
     },
     "execution_count": 22,
     "metadata": {},
     "output_type": "execute_result"
    }
   ],
   "source": [
    "report.counts"
   ]
  },
  {
   "cell_type": "code",
   "execution_count": null,
   "id": "9ebf3b92-310a-441b-9f86-956de867d8cd",
   "metadata": {},
   "outputs": [],
   "source": []
  }
 ],
 "metadata": {
  "kernelspec": {
   "display_name": "Python 3 (ipykernel)",
   "language": "python",
   "name": "python3"
  },
  "language_info": {
   "codemirror_mode": {
    "name": "ipython",
    "version": 3
   },
   "file_extension": ".py",
   "mimetype": "text/x-python",
   "name": "python",
   "nbconvert_exporter": "python",
   "pygments_lexer": "ipython3",
   "version": "3.9.6"
  }
 },
 "nbformat": 4,
 "nbformat_minor": 5
}
