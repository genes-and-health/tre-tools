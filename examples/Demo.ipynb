{
 "cells": [
  {
   "cell_type": "markdown",
   "id": "d84b2ea554519e17",
   "metadata": {
    "collapsed": false
   },
   "source": [
    "# Run through of TRE Tools\n",
    "\n",
    "The following notebook is designed to demonstrate the main features of the tretools package. The notebook is split into the following sections:\n",
    "\n",
    "- Codelists\n",
    "- Datasets\n",
    "- Phenotype Reports\n",
    "- Summary Report\n",
    "\n",
    "Codelists and Datasets form the building blocks of the system. They come together in specific queries in Phenotype Reports - to answer questions such as which patients in a given dataset have an event that matches a code in given codelist. A phenotype in this context is defined as a person who has a code in an identified codelist. A person might have several codes in 1 dataset, 1 qualifying code in different codelists or multiple codes in multiple codelists. "
   ]
  },
  {
   "cell_type": "markdown",
   "id": "85447e80-bf93-44d9-a22e-4daf2641b042",
   "metadata": {},
   "source": [
    "## Codelists\n",
    "First we import our Codelist from a file. Let's start with a SNOMED codelist. "
   ]
  },
  {
   "cell_type": "code",
   "execution_count": 3,
   "id": "1ae6f29d",
   "metadata": {
    "ExecuteTime": {
     "end_time": "2023-12-13T23:51:30.305252Z",
     "start_time": "2023-12-13T23:51:30.241240Z"
    }
   },
   "outputs": [
    {
     "ename": "ModuleNotFoundError",
     "evalue": "No module named 'tretools'",
     "output_type": "error",
     "traceback": [
      "\u001b[0;31m---------------------------------------------------------------------------\u001b[0m",
      "\u001b[0;31mModuleNotFoundError\u001b[0m                       Traceback (most recent call last)",
      "Cell \u001b[0;32mIn[3], line 1\u001b[0m\n\u001b[0;32m----> 1\u001b[0m \u001b[38;5;28;01mfrom\u001b[39;00m \u001b[38;5;21;01mtretools\u001b[39;00m\u001b[38;5;21;01m.\u001b[39;00m\u001b[38;5;21;01mcodelists\u001b[39;00m\u001b[38;5;21;01m.\u001b[39;00m\u001b[38;5;21;01mcodelist\u001b[39;00m \u001b[38;5;28;01mimport\u001b[39;00m Codelist\n",
      "\u001b[0;31mModuleNotFoundError\u001b[0m: No module named 'tretools'"
     ]
    }
   ],
   "source": [
    "from tretools.codelists.codelist import Codelist"
   ]
  },
  {
   "cell_type": "code",
   "execution_count": 51,
   "id": "80200599-5d98-4b82-af20-e98dd94cbdac",
   "metadata": {
    "ExecuteTime": {
     "end_time": "2023-12-13T23:51:30.314844Z",
     "start_time": "2023-12-13T23:51:30.307325Z"
    }
   },
   "outputs": [],
   "source": [
    "snomed_codelist = Codelist(\"codelists/disease_a_snomed.csv\", codelist_type=\"SNOMED\")"
   ]
  },
  {
   "cell_type": "markdown",
   "id": "957955544d61db2a",
   "metadata": {
    "collapsed": false
   },
   "source": [
    "This gives us a codelist that we can view. "
   ]
  },
  {
   "cell_type": "code",
   "execution_count": 52,
   "id": "93de36835fcdaf65",
   "metadata": {
    "ExecuteTime": {
     "end_time": "2023-12-13T23:51:30.320553Z",
     "start_time": "2023-12-13T23:51:30.316356Z"
    },
    "collapsed": false
   },
   "outputs": [
    {
     "data": {
      "text/plain": [
       "[{'code': '100000001', 'term': 'Disease A - 1'},\n",
       " {'code': '100000002', 'term': 'Disease A - 2'}]"
      ]
     },
     "execution_count": 52,
     "metadata": {},
     "output_type": "execute_result"
    }
   ],
   "source": [
    "snomed_codelist.data"
   ]
  },
  {
   "cell_type": "code",
   "execution_count": 53,
   "id": "e04e71a1-1d4f-409f-ac69-88f3f1f03fb8",
   "metadata": {
    "ExecuteTime": {
     "end_time": "2023-12-13T23:51:30.326765Z",
     "start_time": "2023-12-13T23:51:30.320381Z"
    }
   },
   "outputs": [
    {
     "data": {
      "text/plain": [
       "{'100000001', '100000002'}"
      ]
     },
     "execution_count": 53,
     "metadata": {},
     "output_type": "execute_result"
    }
   ],
   "source": [
    "snomed_codelist.codes"
   ]
  },
  {
   "cell_type": "markdown",
   "id": "79a45f01feeece83",
   "metadata": {
    "collapsed": false
   },
   "source": [
    "Now lets do the same with an ICD codelist. "
   ]
  },
  {
   "cell_type": "code",
   "execution_count": 54,
   "id": "83a2b4f0-56ce-422e-a5ea-6843515016cb",
   "metadata": {
    "ExecuteTime": {
     "end_time": "2023-12-13T23:51:30.327219Z",
     "start_time": "2023-12-13T23:51:30.322374Z"
    }
   },
   "outputs": [],
   "source": [
    "icd_codelist = Codelist(\"codelists/disease_a_icd.csv\", \"ICD10\")"
   ]
  },
  {
   "cell_type": "code",
   "execution_count": 55,
   "id": "051b26fb-31ae-4c99-827c-098677c50691",
   "metadata": {
    "ExecuteTime": {
     "end_time": "2023-12-13T23:51:30.364892Z",
     "start_time": "2023-12-13T23:51:30.327854Z"
    }
   },
   "outputs": [
    {
     "data": {
      "text/plain": [
       "{'A01', 'A021'}"
      ]
     },
     "execution_count": 55,
     "metadata": {},
     "output_type": "execute_result"
    }
   ],
   "source": [
    "icd_codelist.codes"
   ]
  },
  {
   "cell_type": "markdown",
   "id": "279c7b5555376e6a",
   "metadata": {
    "collapsed": false
   },
   "source": [
    "Sometimes we want to add X to the end of a ICD10 to allow us to use it in NHS Digital Data. Now lets pass in `add_x_codes` to see the difference. You will see that extra codes are generated with the same code term. "
   ]
  },
  {
   "cell_type": "code",
   "execution_count": 56,
   "id": "c093c022d88b4bbe",
   "metadata": {
    "ExecuteTime": {
     "end_time": "2023-12-13T23:51:30.370904Z",
     "start_time": "2023-12-13T23:51:30.329991Z"
    },
    "collapsed": false
   },
   "outputs": [
    {
     "data": {
      "text/plain": [
       "{'A01', 'A01X', 'A021'}"
      ]
     },
     "execution_count": 56,
     "metadata": {},
     "output_type": "execute_result"
    }
   ],
   "source": [
    "icd_codelist_with_x = Codelist(\"Codelists/disease_a_icd.csv\", \"ICD10\", add_x_codes=True)\n",
    "icd_codelist_with_x.codes"
   ]
  },
  {
   "cell_type": "markdown",
   "id": "25ed0cf91912f82f",
   "metadata": {
    "collapsed": false
   },
   "source": [
    "Additionally, with ICD10 codes, we want to truncate this to 3 digits only. "
   ]
  },
  {
   "cell_type": "code",
   "execution_count": 57,
   "id": "c41a60ac67c65778",
   "metadata": {
    "ExecuteTime": {
     "end_time": "2023-12-13T23:51:30.405604Z",
     "start_time": "2023-12-13T23:51:30.367760Z"
    },
    "collapsed": false
   },
   "outputs": [
    {
     "data": {
      "text/plain": [
       "{'A01', 'A021'}"
      ]
     },
     "execution_count": 57,
     "metadata": {},
     "output_type": "execute_result"
    }
   ],
   "source": [
    "truncated_icd_codelist = Codelist(\"Codelists/disease_a_icd.csv\", \"ICD10\", icd10_3_digit_only=True)\n",
    "truncated_icd_codelist.codes"
   ]
  },
  {
   "cell_type": "markdown",
   "id": "1f0397d84a6cf0f1",
   "metadata": {
    "collapsed": false
   },
   "source": [
    "## Datasets\n",
    "\n",
    "There are 3 types of Datasets:\n",
    "- RawDataset - this takes in data, which might be messy. It can be processed to produce a ProcessedDataset\n",
    "- ProcessedDataset - this is a tidy dataset that can be merged with other ProcessedDataset\n",
    "- DemographicDataset - this is a special type of Dataset that can be created from specific data files"
   ]
  },
  {
   "cell_type": "code",
   "execution_count": 58,
   "id": "e0bb5c71-7636-4a23-92fd-a0f8057d18a3",
   "metadata": {
    "ExecuteTime": {
     "end_time": "2023-12-13T23:51:30.415075Z",
     "start_time": "2023-12-13T23:51:30.408151Z"
    }
   },
   "outputs": [],
   "source": [
    "from tretools.datasets.raw_dataset import RawDataset\n",
    "from tretools.datasets.demographic_dataset import DemographicDataset"
   ]
  },
  {
   "cell_type": "markdown",
   "id": "641186c06926c24c",
   "metadata": {
    "collapsed": false
   },
   "source": [
    "We can load a datafile into a RawDataset. This will put the data at `.data`. "
   ]
  },
  {
   "cell_type": "code",
   "execution_count": 59,
   "id": "f762cb4b-47b5-4c25-a0e9-539ce411cf11",
   "metadata": {
    "ExecuteTime": {
     "end_time": "2023-12-13T23:51:30.421344Z",
     "start_time": "2023-12-13T23:51:30.416945Z"
    }
   },
   "outputs": [],
   "source": [
    "raw_data = RawDataset(path=\"datasets/primary_care_data.csv\", coding_system=\"SNOMED\", dataset_type=\"primary_care\")"
   ]
  },
  {
   "cell_type": "code",
   "execution_count": 60,
   "id": "b06ec35f-80b9-469f-84d1-f1314101c6eb",
   "metadata": {
    "ExecuteTime": {
     "end_time": "2023-12-13T23:51:30.428298Z",
     "start_time": "2023-12-13T23:51:30.424081Z"
    }
   },
   "outputs": [
    {
     "data": {
      "text/html": [
       "<div><style>\n",
       ".dataframe > thead > tr > th,\n",
       ".dataframe > tbody > tr > td {\n",
       "  text-align: right;\n",
       "  white-space: pre-wrap;\n",
       "}\n",
       "</style>\n",
       "<small>shape: (27, 5)</small><table border=\"1\" class=\"dataframe\"><thead><tr><th>pseudo_nhs_number</th><th>clinical_effective_date</th><th>original_code</th><th>original_term</th><th>extra_col</th></tr><tr><td>str</td><td>str</td><td>i64</td><td>str</td><td>i64</td></tr></thead><tbody><tr><td>&quot;84950DE0614A5C…</td><td>&quot;2018-10-05 12:…</td><td>100000001</td><td>&quot;Disease A - 1&quot;</td><td>1</td></tr><tr><td>&quot;84950DE0614A5C…</td><td>&quot;05/11/2018&quot;</td><td>100000001</td><td>&quot;Disease A - 1&quot;</td><td>1</td></tr><tr><td>&quot;84950DE0614A5C…</td><td>&quot;12-02-2019&quot;</td><td>100000002</td><td>&quot;Disease A - 2&quot;</td><td>1</td></tr><tr><td>&quot;84950DE0614A5C…</td><td>&quot;2020-05-22T08:…</td><td>200000001</td><td>&quot;Disease B - 1&quot;</td><td>1</td></tr><tr><td>&quot;73951AB0712D6E…</td><td>null</td><td>100000001</td><td>&quot;Disease A - 1&quot;</td><td>1</td></tr><tr><td>&quot;73951AB0712D6E…</td><td>&quot;03-06-2013 15:…</td><td>100000001</td><td>&quot;Disease A - 1&quot;</td><td>1</td></tr><tr><td>&quot;53952EF0503F7F…</td><td>&quot;July 19, 2016&quot;</td><td>200000001</td><td>&quot;Disease B - 1&quot;</td><td>1</td></tr><tr><td>&quot;53952EF0503F7F…</td><td>&quot;2016-08-20 07:…</td><td>200000001</td><td>&quot;Disease B - 1&quot;</td><td>1</td></tr><tr><td>&quot;44966CC0716B4C…</td><td>null</td><td>100000002</td><td>&quot;Disease A - 2&quot;</td><td>1</td></tr><tr><td>&quot;84950DE0614A5C…</td><td>&quot;2018-10-05 12:…</td><td>100000001</td><td>&quot;Disease A - 1&quot;</td><td>1</td></tr><tr><td>&quot;84950DE0614A5C…</td><td>&quot;05/11/2018&quot;</td><td>100000001</td><td>&quot;Disease A - 1&quot;</td><td>1</td></tr><tr><td>&quot;84950DE0614A5C…</td><td>&quot;12-02-2019&quot;</td><td>100000002</td><td>&quot;Disease A - 2&quot;</td><td>1</td></tr><tr><td>&hellip;</td><td>&hellip;</td><td>&hellip;</td><td>&hellip;</td><td>&hellip;</td></tr><tr><td>&quot;53952EF0503F7F…</td><td>&quot;July 19, 2016&quot;</td><td>200000001</td><td>&quot;Disease B - 1&quot;</td><td>1</td></tr><tr><td>&quot;53952EF0503F7F…</td><td>&quot;2016-08-20 07:…</td><td>200000001</td><td>&quot;Disease B - 1&quot;</td><td>1</td></tr><tr><td>&quot;44966CC0716B4C…</td><td>null</td><td>100000002</td><td>&quot;Disease A - 2&quot;</td><td>1</td></tr><tr><td>&quot;84950DE0614A5C…</td><td>&quot;2018-10-05 12:…</td><td>100000001</td><td>&quot;Disease A - 1&quot;</td><td>1</td></tr><tr><td>&quot;84950DE0614A5C…</td><td>&quot;05/11/2018&quot;</td><td>100000001</td><td>&quot;Disease A - 1&quot;</td><td>1</td></tr><tr><td>&quot;84950DE0614A5C…</td><td>&quot;12-02-2019&quot;</td><td>100000002</td><td>&quot;Disease A - 2&quot;</td><td>1</td></tr><tr><td>&quot;84950DE0614A5C…</td><td>&quot;2020-05-22T08:…</td><td>200000001</td><td>&quot;Disease B - 1&quot;</td><td>1</td></tr><tr><td>&quot;73951AB0712D6E…</td><td>null</td><td>100000001</td><td>&quot;Disease A - 1&quot;</td><td>1</td></tr><tr><td>&quot;73951AB0712D6E…</td><td>&quot;03-06-2013 15:…</td><td>100000001</td><td>&quot;Disease A - 1&quot;</td><td>1</td></tr><tr><td>&quot;53952EF0503F7F…</td><td>&quot;July 19, 2016&quot;</td><td>200000001</td><td>&quot;Disease B - 1&quot;</td><td>1</td></tr><tr><td>&quot;53952EF0503F7F…</td><td>&quot;2016-08-20 07:…</td><td>200000001</td><td>&quot;Disease B - 1&quot;</td><td>1</td></tr><tr><td>&quot;44966CC0716B4C…</td><td>null</td><td>100000002</td><td>&quot;Disease A - 2&quot;</td><td>1</td></tr></tbody></table></div>"
      ],
      "text/plain": [
       "shape: (27, 5)\n",
       "┌────────────────────────────┬─────────────────────────┬───────────────┬───────────────┬───────────┐\n",
       "│ pseudo_nhs_number          ┆ clinical_effective_date ┆ original_code ┆ original_term ┆ extra_col │\n",
       "│ ---                        ┆ ---                     ┆ ---           ┆ ---           ┆ ---       │\n",
       "│ str                        ┆ str                     ┆ i64           ┆ str           ┆ i64       │\n",
       "╞════════════════════════════╪═════════════════════════╪═══════════════╪═══════════════╪═══════════╡\n",
       "│ 84950DE0614A5C241F7223FBCC ┆ 2018-10-05 12:15:30     ┆ 100000001     ┆ Disease A - 1 ┆ 1         │\n",
       "│ D27BE8…                    ┆                         ┆               ┆               ┆           │\n",
       "│ 84950DE0614A5C241F7223FBCC ┆ 05/11/2018              ┆ 100000001     ┆ Disease A - 1 ┆ 1         │\n",
       "│ D27BE8…                    ┆                         ┆               ┆               ┆           │\n",
       "│ 84950DE0614A5C241F7223FBCC ┆ 12-02-2019              ┆ 100000002     ┆ Disease A - 2 ┆ 1         │\n",
       "│ D27BE8…                    ┆                         ┆               ┆               ┆           │\n",
       "│ 84950DE0614A5C241F7223FBCC ┆ 2020-05-22T08:45:50     ┆ 200000001     ┆ Disease B - 1 ┆ 1         │\n",
       "│ D27BE8…                    ┆                         ┆               ┆               ┆           │\n",
       "│ …                          ┆ …                       ┆ …             ┆ …             ┆ …         │\n",
       "│ 73951AB0712D6E241E8222EDCC ┆ 03-06-2013 15:23        ┆ 100000001     ┆ Disease A - 1 ┆ 1         │\n",
       "│ F28AE8…                    ┆                         ┆               ┆               ┆           │\n",
       "│ 53952EF0503F7F341D9121DBCC ┆ July 19, 2016           ┆ 200000001     ┆ Disease B - 1 ┆ 1         │\n",
       "│ C39DE9…                    ┆                         ┆               ┆               ┆           │\n",
       "│ 53952EF0503F7F341D9121DBCC ┆ 2016-08-20 07:10        ┆ 200000001     ┆ Disease B - 1 ┆ 1         │\n",
       "│ C39DE9…                    ┆                         ┆               ┆               ┆           │\n",
       "│ 44966CC0716B4C241F8223EDBC ┆ null                    ┆ 100000002     ┆ Disease A - 2 ┆ 1         │\n",
       "│ F77AE8…                    ┆                         ┆               ┆               ┆           │\n",
       "└────────────────────────────┴─────────────────────────┴───────────────┴───────────────┴───────────┘"
      ]
     },
     "execution_count": 60,
     "metadata": {},
     "output_type": "execute_result"
    }
   ],
   "source": [
    "raw_data.data"
   ]
  },
  {
   "cell_type": "markdown",
   "id": "b92ce4b5-928f-43f9-968e-55c252bd5e86",
   "metadata": {},
   "source": [
    "There are different dates, some missing data and an extra column. Let's get rid of these. We pass in a deduplication option, plus the maps of the column. This will create a ProcessedDataset."
   ]
  },
  {
   "cell_type": "code",
   "execution_count": 61,
   "id": "ef1730ae-92d1-4ab9-8045-0beac9f21a99",
   "metadata": {
    "ExecuteTime": {
     "end_time": "2023-12-13T23:51:30.459676Z",
     "start_time": "2023-12-13T23:51:30.428809Z"
    }
   },
   "outputs": [],
   "source": [
    "gp_processed_data = raw_data.process_dataset(\n",
    "    deduplication_options=[\"nhs_number\", \"code\", \"date\"], \n",
    "    column_maps={\"original_code\": \"code\", \"original_term\": \"term\", \"clinical_effective_date\": \"date\", \"pseudo_nhs_number\": \"nhs_number\"}\n",
    ")"
   ]
  },
  {
   "cell_type": "code",
   "execution_count": 62,
   "id": "e8c7f49d-cb40-4486-81d9-dbf8eaa35a8d",
   "metadata": {
    "ExecuteTime": {
     "end_time": "2023-12-13T23:51:30.468995Z",
     "start_time": "2023-12-13T23:51:30.434702Z"
    }
   },
   "outputs": [
    {
     "data": {
      "text/html": [
       "<div><style>\n",
       ".dataframe > thead > tr > th,\n",
       ".dataframe > tbody > tr > td {\n",
       "  text-align: right;\n",
       "  white-space: pre-wrap;\n",
       "}\n",
       "</style>\n",
       "<small>shape: (7, 3)</small><table border=\"1\" class=\"dataframe\"><thead><tr><th>nhs_number</th><th>code</th><th>date</th></tr><tr><td>str</td><td>i64</td><td>date</td></tr></thead><tbody><tr><td>&quot;53952EF0503F7F…</td><td>200000001</td><td>2016-08-20</td></tr><tr><td>&quot;53952EF0503F7F…</td><td>200000001</td><td>2016-07-19</td></tr><tr><td>&quot;84950DE0614A5C…</td><td>100000001</td><td>2018-11-05</td></tr><tr><td>&quot;84950DE0614A5C…</td><td>100000001</td><td>2018-10-05</td></tr><tr><td>&quot;84950DE0614A5C…</td><td>100000002</td><td>2019-02-12</td></tr><tr><td>&quot;73951AB0712D6E…</td><td>100000001</td><td>2013-06-03</td></tr><tr><td>&quot;84950DE0614A5C…</td><td>200000001</td><td>2020-05-22</td></tr></tbody></table></div>"
      ],
      "text/plain": [
       "shape: (7, 3)\n",
       "┌───────────────────────────────────┬───────────┬────────────┐\n",
       "│ nhs_number                        ┆ code      ┆ date       │\n",
       "│ ---                               ┆ ---       ┆ ---        │\n",
       "│ str                               ┆ i64       ┆ date       │\n",
       "╞═══════════════════════════════════╪═══════════╪════════════╡\n",
       "│ 53952EF0503F7F341D9121DBCCC39DE9… ┆ 200000001 ┆ 2016-08-20 │\n",
       "│ 53952EF0503F7F341D9121DBCCC39DE9… ┆ 200000001 ┆ 2016-07-19 │\n",
       "│ 84950DE0614A5C241F7223FBCCD27BE8… ┆ 100000001 ┆ 2018-11-05 │\n",
       "│ 84950DE0614A5C241F7223FBCCD27BE8… ┆ 100000001 ┆ 2018-10-05 │\n",
       "│ 84950DE0614A5C241F7223FBCCD27BE8… ┆ 100000002 ┆ 2019-02-12 │\n",
       "│ 73951AB0712D6E241E8222EDCCF28AE8… ┆ 100000001 ┆ 2013-06-03 │\n",
       "│ 84950DE0614A5C241F7223FBCCD27BE8… ┆ 200000001 ┆ 2020-05-22 │\n",
       "└───────────────────────────────────┴───────────┴────────────┘"
      ]
     },
     "execution_count": 62,
     "metadata": {},
     "output_type": "execute_result"
    }
   ],
   "source": [
    "gp_processed_data.data"
   ]
  },
  {
   "cell_type": "markdown",
   "id": "342f22c04f83c4a3",
   "metadata": {
    "collapsed": false
   },
   "source": [
    "Now you will see that there is a clean dataset. \n",
    "\n",
    "Let's move onto Demographics. "
   ]
  },
  {
   "cell_type": "code",
   "execution_count": 63,
   "id": "ad29ec54a3412fc3",
   "metadata": {
    "ExecuteTime": {
     "end_time": "2023-12-13T23:51:30.517542Z",
     "start_time": "2023-12-13T23:51:30.462173Z"
    },
    "collapsed": false
   },
   "outputs": [],
   "source": [
    "demographics = DemographicDataset(path_to_mapping_file=\"demographics/mapping.txt\", path_to_demographic_file=\"demographics/gender_dummy.txt\")"
   ]
  },
  {
   "cell_type": "markdown",
   "id": "4df8b24d17cfea86",
   "metadata": {
    "collapsed": false
   },
   "source": [
    "Similar to RawDataset, we can process this data to standardise it. We need to pass in a map of what columns mean in each of the 2 input files.  "
   ]
  },
  {
   "cell_type": "code",
   "execution_count": 64,
   "id": "18106025515ff3ed",
   "metadata": {
    "ExecuteTime": {
     "end_time": "2023-12-13T23:51:30.549719Z",
     "start_time": "2023-12-13T23:51:30.515147Z"
    },
    "collapsed": false
   },
   "outputs": [],
   "source": [
    "mapping_config = {\n",
    "    \"mapping\": {\n",
    "        \"OrageneID\": \"study_id\",\n",
    "        \"PseudoNHS_2023-11-08\": \"nhs_number\"\n",
    "    },\n",
    "    \"demographics\": {\n",
    "        \"S1QST_Oragene_ID\": \"study_id\",\n",
    "        \"S1QST_MM-YYYY_ofBirth\": \"dob\",\n",
    "        \"S1QST_Gender\": \"gender\"\n",
    "    }\n",
    "}"
   ]
  },
  {
   "cell_type": "code",
   "execution_count": 65,
   "id": "9876b27785391866",
   "metadata": {
    "ExecuteTime": {
     "end_time": "2023-12-13T23:51:30.584121Z",
     "start_time": "2023-12-13T23:51:30.553387Z"
    },
    "collapsed": false
   },
   "outputs": [],
   "source": [
    "demographics.process_dataset(mapping_config)"
   ]
  },
  {
   "cell_type": "code",
   "execution_count": 66,
   "id": "6a505acf45ce6838",
   "metadata": {
    "ExecuteTime": {
     "end_time": "2023-12-13T23:51:30.599372Z",
     "start_time": "2023-12-13T23:51:30.587833Z"
    },
    "collapsed": false
   },
   "outputs": [
    {
     "data": {
      "text/html": [
       "<div><style>\n",
       ".dataframe > thead > tr > th,\n",
       ".dataframe > tbody > tr > td {\n",
       "  text-align: right;\n",
       "  white-space: pre-wrap;\n",
       "}\n",
       "</style>\n",
       "<small>shape: (3, 3)</small><table border=\"1\" class=\"dataframe\"><thead><tr><th>nhs_number</th><th>gender</th><th>dob</th></tr><tr><td>str</td><td>i64</td><td>date</td></tr></thead><tbody><tr><td>&quot;84950DE0614A5C…</td><td>2</td><td>1983-10-15</td></tr><tr><td>&quot;73951AB0712D6E…</td><td>1</td><td>1979-01-15</td></tr><tr><td>&quot;53952EF0503F7F…</td><td>1</td><td>1948-06-15</td></tr></tbody></table></div>"
      ],
      "text/plain": [
       "shape: (3, 3)\n",
       "┌───────────────────────────────────┬────────┬────────────┐\n",
       "│ nhs_number                        ┆ gender ┆ dob        │\n",
       "│ ---                               ┆ ---    ┆ ---        │\n",
       "│ str                               ┆ i64    ┆ date       │\n",
       "╞═══════════════════════════════════╪════════╪════════════╡\n",
       "│ 84950DE0614A5C241F7223FBCCD27BE8… ┆ 2      ┆ 1983-10-15 │\n",
       "│ 73951AB0712D6E241E8222EDCCF28AE8… ┆ 1      ┆ 1979-01-15 │\n",
       "│ 53952EF0503F7F341D9121DBCCC39DE9… ┆ 1      ┆ 1948-06-15 │\n",
       "└───────────────────────────────────┴────────┴────────────┘"
      ]
     },
     "execution_count": 66,
     "metadata": {},
     "output_type": "execute_result"
    }
   ],
   "source": [
    "demographics.data"
   ]
  },
  {
   "cell_type": "markdown",
   "id": "d2ca82c9fe6254b5",
   "metadata": {
    "collapsed": false
   },
   "source": [
    "We now have a clean dataset for age and gender. "
   ]
  },
  {
   "cell_type": "markdown",
   "id": "068d38cd-9442-47ef-9f58-5c6d95ae0702",
   "metadata": {},
   "source": [
    "# Phenotype Report"
   ]
  },
  {
   "cell_type": "code",
   "execution_count": 67,
   "id": "15cf0235-196e-437f-9d2a-8ec04f44d41c",
   "metadata": {
    "ExecuteTime": {
     "end_time": "2023-12-13T23:51:30.605101Z",
     "start_time": "2023-12-13T23:51:30.600365Z"
    }
   },
   "outputs": [],
   "source": [
    "from tretools.phenotype_report.report import PhenotypeReport"
   ]
  },
  {
   "cell_type": "markdown",
   "id": "5a4297aee497d3db",
   "metadata": {
    "collapsed": false
   },
   "source": [
    "We create an empty report. "
   ]
  },
  {
   "cell_type": "code",
   "execution_count": 68,
   "id": "b292bfdc-8a6b-4027-a4e9-e099586288a8",
   "metadata": {
    "ExecuteTime": {
     "end_time": "2023-12-13T23:51:30.605602Z",
     "start_time": "2023-12-13T23:51:30.603770Z"
    }
   },
   "outputs": [],
   "source": [
    "report = PhenotypeReport(\"Disease A\")"
   ]
  },
  {
   "cell_type": "markdown",
   "id": "7183039f911eee53",
   "metadata": {
    "collapsed": false
   },
   "source": [
    "We now add counts. A count includes the following fields:\n",
    "\n",
    "- Dataset (compulsory)\n",
    "- Codelist (compulsory)\n",
    "- Demographics (optional)"
   ]
  },
  {
   "cell_type": "code",
   "execution_count": 69,
   "id": "f32d73a4-ce41-4952-ad08-2dec033ec8cb",
   "metadata": {
    "ExecuteTime": {
     "end_time": "2023-12-13T23:51:30.645027Z",
     "start_time": "2023-12-13T23:51:30.607333Z"
    }
   },
   "outputs": [],
   "source": [
    "report.add_count(\"primary_care\", codelist=snomed_codelist, dataset=gp_processed_data, demographics=demographics)"
   ]
  },
  {
   "cell_type": "markdown",
   "id": "fc3458d2d7c31182",
   "metadata": {
    "collapsed": false
   },
   "source": [
    "This gives us a count summary. "
   ]
  },
  {
   "cell_type": "code",
   "execution_count": 70,
   "id": "b09954d5-4561-482d-8c66-d10f17774d95",
   "metadata": {
    "ExecuteTime": {
     "end_time": "2023-12-13T23:51:30.645708Z",
     "start_time": "2023-12-13T23:51:30.611978Z"
    }
   },
   "outputs": [
    {
     "data": {
      "text/plain": [
       "{'primary_care': {'code': [100000002, 100000001],\n",
       "  'patient_count': 2,\n",
       "  'event_count': 4,\n",
       "  'nhs_numbers': shape: (2, 5)\n",
       "  ┌───────────────────────────────────┬───────────┬────────────┬──────────────┬────────┐\n",
       "  │ nhs_number                        ┆ code      ┆ date       ┆ age_at_event ┆ gender │\n",
       "  │ ---                               ┆ ---       ┆ ---        ┆ ---          ┆ ---    │\n",
       "  │ str                               ┆ i64       ┆ date       ┆ i64          ┆ str    │\n",
       "  ╞═══════════════════════════════════╪═══════════╪════════════╪══════════════╪════════╡\n",
       "  │ 84950DE0614A5C241F7223FBCCD27BE8… ┆ 100000001 ┆ 2018-10-05 ┆ 34           ┆ F      │\n",
       "  │ 73951AB0712D6E241E8222EDCCF28AE8… ┆ 100000001 ┆ 2013-06-03 ┆ 34           ┆ M      │\n",
       "  └───────────────────────────────────┴───────────┴────────────┴──────────────┴────────┘,\n",
       "  'codelist_path': 'codelists/disease_a_snomed.csv',\n",
       "  'codelist_type': 'SNOMED',\n",
       "  'dataset_type': 'primary_care',\n",
       "  'log': ['2024-08-27 22:02:53.807950: There are 7 events in the dataset',\n",
       "   '2024-08-27 22:02:53.807961: Counting events for codelist primary_care',\n",
       "   '2024-08-27 22:02:53.808418: There are 4 events in the dataset for the codelist',\n",
       "   '2024-08-27 22:02:53.809073: There are 2 people in the dataset for the codelist',\n",
       "   '2024-08-27 22:02:53.810230: Demographic data added to the report'],\n",
       "  'dataset_log': [\"2024-08-27 22:02:53.740849: Loaded data from datasets/primary_care_data.csv using separator ',' with these values as null: ['', ' ', 'NULL', 'NA', '               ', '.', '                    ', '-', 'NOT CLOSE']\",\n",
       "   '2024-08-27 22:02:53.750772: Column names not validated',\n",
       "   '2024-08-27 22:02:53.750839: Key columns are standardised, however extra columns found: extra_col. Run _drop_unneeded_columns() to drop these columns.',\n",
       "   '2024-08-27 22:02:53.750894: Unneeded 2 column(s) dropped',\n",
       "   '2024-08-27 22:02:53.751621: Dropped 6 rows with empty values or empty date strings',\n",
       "   '2024-08-27 22:02:53.751970: Date format standarised',\n",
       "   '2024-08-27 22:02:53.752538: Deduplicated data based on: nhs_number, code, date']}}"
      ]
     },
     "execution_count": 70,
     "metadata": {},
     "output_type": "execute_result"
    }
   ],
   "source": [
    "report.counts"
   ]
  },
  {
   "cell_type": "markdown",
   "id": "cb6728e67f1dcb01",
   "metadata": {
    "collapsed": false
   },
   "source": [
    "We can add a further count. Let's use a different dataset - one from barts to do this. "
   ]
  },
  {
   "cell_type": "code",
   "execution_count": 71,
   "id": "7ec9a6e83c2d0be9",
   "metadata": {
    "ExecuteTime": {
     "end_time": "2023-12-13T23:51:30.646181Z",
     "start_time": "2023-12-13T23:51:30.614711Z"
    },
    "collapsed": false
   },
   "outputs": [],
   "source": [
    "barts_data = RawDataset(\"datasets/barts_diagnosis.tab\", dataset_type=\"barts_health\", coding_system=\"ICD10\")\n",
    "processed_data_hospital = barts_data.process_dataset(deduplication_options=[\"nhs_number\", \"code\", \"date\"],\n",
    "                           column_maps={\n",
    "                               \"ICD_Diagnosis_Cd\": \"code\", \n",
    "                               \"ICD_Diag_Desc\": \"term\", \n",
    "                               \"Activity_date\": \"date\", \n",
    "                               \"PseudoNHS_2023_04_24\": \"nhs_number\"}\n",
    "                           )"
   ]
  },
  {
   "cell_type": "code",
   "execution_count": 72,
   "id": "3768e938c7604baa",
   "metadata": {
    "ExecuteTime": {
     "end_time": "2023-12-13T23:51:30.671916Z",
     "start_time": "2023-12-13T23:51:30.647931Z"
    },
    "collapsed": false
   },
   "outputs": [],
   "source": [
    "report.add_count(\"secondary_care\", codelist=icd_codelist, dataset=processed_data_hospital, demographics=demographics)\n"
   ]
  },
  {
   "cell_type": "markdown",
   "id": "ce71ffb444e2cdb0",
   "metadata": {
    "collapsed": false
   },
   "source": [
    "Let's examine our counts now:"
   ]
  },
  {
   "cell_type": "code",
   "execution_count": 73,
   "id": "fa3e3775db97456",
   "metadata": {
    "ExecuteTime": {
     "end_time": "2023-12-13T23:51:30.678735Z",
     "start_time": "2023-12-13T23:51:30.658517Z"
    },
    "collapsed": false
   },
   "outputs": [
    {
     "data": {
      "text/plain": [
       "{'primary_care': {'code': [100000002, 100000001],\n",
       "  'patient_count': 2,\n",
       "  'event_count': 4,\n",
       "  'nhs_numbers': shape: (2, 5)\n",
       "  ┌───────────────────────────────────┬───────────┬────────────┬──────────────┬────────┐\n",
       "  │ nhs_number                        ┆ code      ┆ date       ┆ age_at_event ┆ gender │\n",
       "  │ ---                               ┆ ---       ┆ ---        ┆ ---          ┆ ---    │\n",
       "  │ str                               ┆ i64       ┆ date       ┆ i64          ┆ str    │\n",
       "  ╞═══════════════════════════════════╪═══════════╪════════════╪══════════════╪════════╡\n",
       "  │ 84950DE0614A5C241F7223FBCCD27BE8… ┆ 100000001 ┆ 2018-10-05 ┆ 34           ┆ F      │\n",
       "  │ 73951AB0712D6E241E8222EDCCF28AE8… ┆ 100000001 ┆ 2013-06-03 ┆ 34           ┆ M      │\n",
       "  └───────────────────────────────────┴───────────┴────────────┴──────────────┴────────┘,\n",
       "  'codelist_path': 'codelists/disease_a_snomed.csv',\n",
       "  'codelist_type': 'SNOMED',\n",
       "  'dataset_type': 'primary_care',\n",
       "  'log': ['2024-08-27 22:02:53.807950: There are 7 events in the dataset',\n",
       "   '2024-08-27 22:02:53.807961: Counting events for codelist primary_care',\n",
       "   '2024-08-27 22:02:53.808418: There are 4 events in the dataset for the codelist',\n",
       "   '2024-08-27 22:02:53.809073: There are 2 people in the dataset for the codelist',\n",
       "   '2024-08-27 22:02:53.810230: Demographic data added to the report'],\n",
       "  'dataset_log': [\"2024-08-27 22:02:53.740849: Loaded data from datasets/primary_care_data.csv using separator ',' with these values as null: ['', ' ', 'NULL', 'NA', '               ', '.', '                    ', '-', 'NOT CLOSE']\",\n",
       "   '2024-08-27 22:02:53.750772: Column names not validated',\n",
       "   '2024-08-27 22:02:53.750839: Key columns are standardised, however extra columns found: extra_col. Run _drop_unneeded_columns() to drop these columns.',\n",
       "   '2024-08-27 22:02:53.750894: Unneeded 2 column(s) dropped',\n",
       "   '2024-08-27 22:02:53.751621: Dropped 6 rows with empty values or empty date strings',\n",
       "   '2024-08-27 22:02:53.751970: Date format standarised',\n",
       "   '2024-08-27 22:02:53.752538: Deduplicated data based on: nhs_number, code, date']},\n",
       " 'secondary_care': {'code': ['A01', 'A021'],\n",
       "  'patient_count': 2,\n",
       "  'event_count': 2,\n",
       "  'nhs_numbers': shape: (2, 5)\n",
       "  ┌───────────────────────────────────┬──────┬────────────┬──────────────┬────────┐\n",
       "  │ nhs_number                        ┆ code ┆ date       ┆ age_at_event ┆ gender │\n",
       "  │ ---                               ┆ ---  ┆ ---        ┆ ---          ┆ ---    │\n",
       "  │ str                               ┆ str  ┆ date       ┆ i64          ┆ str    │\n",
       "  ╞═══════════════════════════════════╪══════╪════════════╪══════════════╪════════╡\n",
       "  │ 84950DE0614A5C241F7223FBCCD27BE8… ┆ A01  ┆ 2012-12-13 ┆ 29           ┆ F      │\n",
       "  │ 53952EF0503F7F341D9121DBCCC39DE9… ┆ A01  ┆ 2012-12-13 ┆ 64           ┆ M      │\n",
       "  └───────────────────────────────────┴──────┴────────────┴──────────────┴────────┘,\n",
       "  'codelist_path': 'Codelists/disease_a_icd.csv',\n",
       "  'codelist_type': 'ICD10',\n",
       "  'dataset_type': 'barts_health',\n",
       "  'log': ['2024-08-27 22:02:53.824118: There are 10 events in the dataset',\n",
       "   '2024-08-27 22:02:53.824124: Counting events for codelist secondary_care',\n",
       "   '2024-08-27 22:02:53.824589: There are 2 events in the dataset for the codelist',\n",
       "   '2024-08-27 22:02:53.825265: There are 2 people in the dataset for the codelist',\n",
       "   '2024-08-27 22:02:53.826743: Demographic data added to the report'],\n",
       "  'dataset_log': [\"2024-08-27 22:02:53.819044: Loaded data from datasets/barts_diagnosis.tab using separator '\\t' with these values as null: ['', ' ', 'NULL', 'NA', '               ', '.', '                    ', '-', 'NOT CLOSE']\",\n",
       "   '2024-08-27 22:02:53.819146: Column names not validated',\n",
       "   '2024-08-27 22:02:53.819215: Key columns are standardised, however extra columns found: ICD_Diagnosis_Num, CDS_Activity_Dt. Run _drop_unneeded_columns() to drop these columns.',\n",
       "   '2024-08-27 22:02:53.819323: Unneeded 3 column(s) dropped',\n",
       "   '2024-08-27 22:02:53.819966: Dropped 0 rows with empty values or empty date strings',\n",
       "   '2024-08-27 22:02:53.820351: Date format standarised',\n",
       "   '2024-08-27 22:02:53.820918: Deduplicated data based on: nhs_number, code, date']}}"
      ]
     },
     "execution_count": 73,
     "metadata": {},
     "output_type": "execute_result"
    }
   ],
   "source": [
    "report.counts"
   ]
  },
  {
   "cell_type": "markdown",
   "id": "db1c0e9d9b7e8eb2",
   "metadata": {
    "collapsed": false
   },
   "source": [
    "This produces a report that is in its raw form. It can be used by SummaryReportTransformer for now but in the future, more report transformer types will be added. The advantage of this, is that a phenotype report can run once but be used for many outputs. \n",
    "\n",
    "# Summary Report"
   ]
  },
  {
   "cell_type": "code",
   "execution_count": 74,
   "id": "88f56f71d7c0534b",
   "metadata": {
    "ExecuteTime": {
     "end_time": "2023-12-13T23:51:56.892718Z",
     "start_time": "2023-12-13T23:51:56.835279Z"
    },
    "collapsed": false
   },
   "outputs": [],
   "source": [
    "from tretools.report_transformers.summary_report import SummaryReportTransformer"
   ]
  },
  {
   "cell_type": "markdown",
   "id": "8d8b7f26e0d89ef3",
   "metadata": {
    "collapsed": false
   },
   "source": [
    "We put our reports into a list. "
   ]
  },
  {
   "cell_type": "code",
   "execution_count": 75,
   "id": "ffbbbf4d71bef5c1",
   "metadata": {
    "ExecuteTime": {
     "end_time": "2023-12-13T23:53:50.423008Z",
     "start_time": "2023-12-13T23:53:50.414908Z"
    },
    "collapsed": false
   },
   "outputs": [],
   "source": [
    "reports = [report]"
   ]
  },
  {
   "cell_type": "markdown",
   "id": "40e4e055760e5661",
   "metadata": {
    "collapsed": false
   },
   "source": [
    "We create our SummaryReportTransformer() from the reports, and then transform the output. We must pass in a path where we want the summary to be created. "
   ]
  },
  {
   "cell_type": "code",
   "execution_count": 76,
   "id": "4517e447b297983d",
   "metadata": {
    "ExecuteTime": {
     "end_time": "2023-12-13T23:56:48.564901Z",
     "start_time": "2023-12-13T23:56:48.555581Z"
    },
    "collapsed": false
   },
   "outputs": [],
   "source": [
    "summary_report = SummaryReportTransformer.load_from_objects(reports)"
   ]
  },
  {
   "cell_type": "code",
   "execution_count": 77,
   "id": "34fae0a7d790b1ae",
   "metadata": {
    "ExecuteTime": {
     "end_time": "2023-12-13T23:57:36.773433Z",
     "start_time": "2023-12-13T23:57:36.451245Z"
    },
    "collapsed": false
   },
   "outputs": [],
   "source": [
    "summary_report.transform(path=\"summary_report\")"
   ]
  },
  {
   "cell_type": "markdown",
   "id": "e8c5cc824d8accdd",
   "metadata": {
    "collapsed": false
   },
   "source": [
    "This should output a number of folders and files contain your report at that path. "
   ]
  }
 ],
 "metadata": {
  "kernelspec": {
   "display_name": "Python 3 (ipykernel)",
   "language": "python",
   "name": "python3"
  },
  "language_info": {
   "codemirror_mode": {
    "name": "ipython",
    "version": 3
   },
   "file_extension": ".py",
   "mimetype": "text/x-python",
   "name": "python",
   "nbconvert_exporter": "python",
   "pygments_lexer": "ipython3",
   "version": "3.12.5"
  }
 },
 "nbformat": 4,
 "nbformat_minor": 5
}
